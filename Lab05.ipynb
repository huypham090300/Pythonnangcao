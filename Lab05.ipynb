{
  "nbformat": 4,
  "nbformat_minor": 0,
  "metadata": {
    "colab": {
      "name": "Untitled3.ipynb",
      "provenance": [],
      "authorship_tag": "ABX9TyN6tB9waMeEe8x4OVeEgcUC",
      "include_colab_link": true
    },
    "kernelspec": {
      "name": "python3",
      "display_name": "Python 3"
    },
    "language_info": {
      "name": "python"
    }
  },
  "cells": [
    {
      "cell_type": "markdown",
      "metadata": {
        "id": "view-in-github",
        "colab_type": "text"
      },
      "source": [
        "<a href=\"https://colab.research.google.com/github/huypham090300/Pythonnangcao/blob/main/Lab05.ipynb\" target=\"_parent\"><img src=\"https://colab.research.google.com/assets/colab-badge.svg\" alt=\"Open In Colab\"/></a>"
      ]
    },
    {
      "cell_type": "markdown",
      "metadata": {
        "id": "BCdqhlYHj0FQ"
      },
      "source": [
        "Câu 1"
      ]
    },
    {
      "cell_type": "code",
      "metadata": {
        "id": "HtWWbc02jxHl"
      },
      "source": [
        "class Country:\n",
        "  def __init__(self, name: str, population: int, area:float):\n",
        "    self.name = name\n",
        "    self.population = population\n",
        "    self.area = area\n",
        "  def is_larger(self, other):\n",
        "    if (self.area > other.area):\n",
        "      return True\n",
        "    else:\n",
        "      return False\n",
        "  def population_destiny(self):\n",
        "    return self.population/self.area\n",
        "  def __str__ (self):\n",
        "    return ('{} has a population of {} and is {} sqare km'.format(self.name, self.population, self.area))\n",
        "  def __repr__(self):\n",
        "    return (\"Country('{0}', {1}, {2})\".format(self.name, self.population, self.area))\n",
        "usa = Country('United States of America', 313914040, 9826675)\n",
        "canada = Country(\"Cananda\", 34482779, 9984670)\n",
        "mexico = Country('Mexico', 112336538, 1943950)"
      ],
      "execution_count": null,
      "outputs": []
    },
    {
      "cell_type": "code",
      "metadata": {
        "id": "fFKLCG3XcwNe",
        "colab": {
          "base_uri": "https://localhost:8080/"
        },
        "outputId": "41b8ae82-01da-4ee3-ef44-c3c827eb62f1"
      },
      "source": [
        "#Câu a\n",
        "print(canada.name)\n",
        "print(canada.population)\n",
        "print(canada.area)"
      ],
      "execution_count": null,
      "outputs": [
        {
          "output_type": "stream",
          "name": "stdout",
          "text": [
            "Cananda\n",
            "34482779\n",
            "9984670\n"
          ]
        }
      ]
    },
    {
      "cell_type": "code",
      "metadata": {
        "id": "7p0UpC1zVy6S",
        "colab": {
          "base_uri": "https://localhost:8080/"
        },
        "outputId": "d22d7d83-4468-4ba1-f1ea-da598d51838f"
      },
      "source": [
        "#Câu b\n",
        "print(canada.is_larger(usa))\n",
        "print(usa.is_larger(canada))"
      ],
      "execution_count": null,
      "outputs": [
        {
          "output_type": "stream",
          "name": "stdout",
          "text": [
            "True\n",
            "False\n"
          ]
        }
      ]
    },
    {
      "cell_type": "code",
      "metadata": {
        "id": "RiNCoAzRbz1w",
        "colab": {
          "base_uri": "https://localhost:8080/"
        },
        "outputId": "8e3324b4-c250-49b6-97dc-359464da70d6"
      },
      "source": [
        "#Câu c\n",
        "print(canada.population_destiny())"
      ],
      "execution_count": null,
      "outputs": [
        {
          "output_type": "stream",
          "name": "stdout",
          "text": [
            "3.4535722262227995\n"
          ]
        }
      ]
    },
    {
      "cell_type": "code",
      "metadata": {
        "id": "nykFr0J1czdZ",
        "colab": {
          "base_uri": "https://localhost:8080/"
        },
        "outputId": "153bafdd-26bf-45af-a34d-ee9e52ead2ae"
      },
      "source": [
        "#Câu d\n",
        "usa = Country('United States of America', 313914040, 9826675)\n",
        "print(usa)"
      ],
      "execution_count": null,
      "outputs": [
        {
          "output_type": "stream",
          "name": "stdout",
          "text": [
            "United States of America has a population of 313914040 and is 9826675 sqare km\n"
          ]
        }
      ]
    },
    {
      "cell_type": "code",
      "metadata": {
        "id": "yAX9rEuadTnK",
        "colab": {
          "base_uri": "https://localhost:8080/"
        },
        "outputId": "2d01ce85-0526-4e72-8876-d3108998d58d"
      },
      "source": [
        "#Câu e\n",
        "canada = Country('Canada', 34482779, 9984670)\n",
        "print(canada)\n",
        "print([canada])"
      ],
      "execution_count": null,
      "outputs": [
        {
          "output_type": "stream",
          "name": "stdout",
          "text": [
            "Canada has a population of 34482779 and is 9984670 sqare km\n",
            "[Country('Canada', 34482779, 9984670)]\n"
          ]
        }
      ]
    },
    {
      "cell_type": "markdown",
      "metadata": {
        "id": "ejqFfvzo3qY7"
      },
      "source": [
        "Câu 2\n"
      ]
    },
    {
      "cell_type": "code",
      "metadata": {
        "id": "qtsIGbIs3rM_",
        "colab": {
          "base_uri": "https://localhost:8080/"
        },
        "outputId": "5cee0c36-f434-40ed-ce89-fb98a3bb541b"
      },
      "source": [
        "class Continent(Country):\n",
        "    def __init__(self,name, countries):\n",
        "      self.name = name\n",
        "      self.countries = countries\n",
        "    def total_population(self):\n",
        "      total = 0\n",
        "      for country in north_america.countries:\n",
        "        total += country.population\n",
        "      return total\n",
        "    def america(self):\n",
        "      num = 0\n",
        "      for country in north_america.countries:\n",
        "        num+=1\n",
        "        print(country)\n",
        "      return ''\n",
        "mexico = Country('Mexico', 112336538, 1943950)\n",
        "countries = [canada, usa, mexico]\n",
        "north_america = Continent('North America', countries)\n",
        "##Câu a\n",
        "print(mexico)\n",
        "print(north_america.name)\n",
        "print('--------------------------------')\n",
        "##Câu b\n",
        "print('The total population of the three countries is :')\n",
        "print(north_america.total_population())\n",
        "print('--------------------------------')\n",
        "##Câu c\n",
        "print(north_america.america())"
      ],
      "execution_count": null,
      "outputs": [
        {
          "output_type": "stream",
          "name": "stdout",
          "text": [
            "Mexico has a population of 112336538 and is 1943950 sqare km\n",
            "North America\n",
            "--------------------------------\n",
            "The total population of the three countries is :\n",
            "460733357\n",
            "--------------------------------\n",
            "Cananda has a population of 34482779 and is 9984670 sqare km\n",
            "United States of America has a population of 313914040 and is 9826675 sqare km\n",
            "Mexico has a population of 112336538 and is 1943950 sqare km\n",
            "\n"
          ]
        }
      ]
    },
    {
      "cell_type": "markdown",
      "metadata": {
        "id": "33U7H1zFK5-9"
      },
      "source": [
        "Câu 3"
      ]
    },
    {
      "cell_type": "code",
      "metadata": {
        "id": "M6ZXGWC4E8QR"
      },
      "source": [
        "class Student:\n",
        "  def __init__(self, name:str, ID: int, this_course: str, last_course: str):\n",
        "    self.name = name\n",
        "    self.ID = ID\n",
        "    self.this_course = this_course\n",
        "    self.last_course = last_course\n",
        "  def __str__(self):\n",
        "    return('-Name : {} \\n-ID : {} \\n-this_course: {} \\n-last_course: {}'.format(self.name, self.ID, self.this_course, self.last_course))"
      ],
      "execution_count": null,
      "outputs": []
    },
    {
      "cell_type": "code",
      "metadata": {
        "id": "jo7mzyRDF5QD"
      },
      "source": [
        "class Member: \n",
        "  def __init__(self, course: str, ListMember: str):\n",
        "    self.course = course\n",
        "    self.ListMember = ListMember\n",
        "  def __repr__(self):\n",
        "    return('-Course : {} \\n-ListMember : {}'.format(self.course, self.ListMember)) "
      ],
      "execution_count": null,
      "outputs": []
    },
    {
      "cell_type": "code",
      "metadata": {
        "id": "lXcABPcNGt0D"
      },
      "source": [
        "class Faculty:\n",
        "  def __init__(self, industry: str, ID_industry: str, mail: str ):\n",
        "    self.industry = industry\n",
        "    self.ID_industry = ID_industry\n",
        "    self.mail = mail\n",
        "  def __repr__(self):\n",
        "    return('-Industry: {} \\n-ID_industry: {} \\n-mail: {}'.format(self.industry, self.ID_industry, self.mail))"
      ],
      "execution_count": null,
      "outputs": []
    },
    {
      "cell_type": "code",
      "metadata": {
        "id": "zyKedHBmImm1",
        "colab": {
          "base_uri": "https://localhost:8080/"
        },
        "outputId": "5bb63802-87cf-42d0-e44a-7ab5420eb1e3"
      },
      "source": [
        "MyClass = Student('Huy Pham','187IT06836','Requirements Engineering','Object-Oriented System Analysis and Design')\n",
        "print(MyClass)"
      ],
      "execution_count": null,
      "outputs": [
        {
          "output_type": "stream",
          "name": "stdout",
          "text": [
            "-Name : Huy Pham \n",
            "-ID : 187IT06836 \n",
            "-this_course: Requirements Engineering \n",
            "-last_course: Object-Oriented System Analysis and Design\n"
          ]
        }
      ]
    },
    {
      "cell_type": "code",
      "metadata": {
        "id": "psihBlvsQHU4",
        "outputId": "53b23ced-d722-42e0-893a-badb7862c0ec",
        "colab": {
          "base_uri": "https://localhost:8080/"
        }
      },
      "source": [
        "ClassMember = Member('Advanced Python Programming',['Huy','Teo','Ti'])\n",
        "print(ClassMember.course)\n",
        "print(ClassMember.ListMember)"
      ],
      "execution_count": 11,
      "outputs": [
        {
          "output_type": "stream",
          "name": "stdout",
          "text": [
            "Advanced Python Programming\n",
            "['Huy', 'Teo', 'Ti']\n"
          ]
        }
      ]
    },
    {
      "cell_type": "code",
      "metadata": {
        "id": "DggW-n3IRfqA",
        "outputId": "8a3b7ef5-2906-4bb5-cebc-59f52bf4faf3",
        "colab": {
          "base_uri": "https://localhost:8080/"
        }
      },
      "source": [
        "MyFac = Faculty('Software Engineering','PM','k.cntt@vanlanguni.edu.vn')\n",
        "print(MyFac)"
      ],
      "execution_count": 12,
      "outputs": [
        {
          "output_type": "stream",
          "name": "stdout",
          "text": [
            "-Industry: Software Engineering \n",
            "-ID_industry: PM \n",
            "-mail: k.cntt@vanlanguni.edu.vn\n"
          ]
        }
      ]
    },
    {
      "cell_type": "markdown",
      "metadata": {
        "id": "fGq4Vydt5Jsn"
      },
      "source": [
        "Câu 4"
      ]
    },
    {
      "cell_type": "code",
      "metadata": {
        "id": "ipYfJPXg8Stv",
        "colab": {
          "base_uri": "https://localhost:8080/"
        },
        "outputId": "06c62374-15e6-4605-c75c-a6ffa8f24ccc"
      },
      "source": [
        "class Nematode:\n",
        "  def __init__(self, lenght:int, gender:str, age: int):\n",
        "    self.lenght = lenght\n",
        "    self.gender = gender\n",
        "    self.age = age\n",
        "  def __str__(self):\n",
        "    return ('Celegan is : \\n+ lenght {}mm \\n+ gender is {} \\n+ age = {} days '.format(self.lenght, self.gender, self.age))\n",
        "  def __repr__(self):\n",
        "    return ('{} {} {}'.format(self.lenght, self.gender, self.age))\n",
        "Celegan = Nematode(1, 'male', 9)\n",
        "print(Celegan.__str__())\n",
        "print(Celegan.__repr__())"
      ],
      "execution_count": 9,
      "outputs": [
        {
          "output_type": "stream",
          "name": "stdout",
          "text": [
            "Celegan is : \n",
            "+ lenght 1mm \n",
            "+ gender is male \n",
            "+ age = 9 days \n",
            "1 male 9\n"
          ]
        }
      ]
    },
    {
      "cell_type": "markdown",
      "metadata": {
        "id": "t8IOz9LhT-i9"
      },
      "source": [
        "Câu 5"
      ]
    },
    {
      "cell_type": "code",
      "metadata": {
        "id": "DCrWieQoT_Nk"
      },
      "source": [
        ""
      ],
      "execution_count": null,
      "outputs": []
    }
  ]
}