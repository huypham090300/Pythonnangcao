{
  "nbformat": 4,
  "nbformat_minor": 0,
  "metadata": {
    "colab": {
      "name": "Untitled3.ipynb",
      "provenance": [],
      "authorship_tag": "ABX9TyMNLugVHHzN9ja7uv/pKLzv",
      "include_colab_link": true
    },
    "kernelspec": {
      "name": "python3",
      "display_name": "Python 3"
    },
    "language_info": {
      "name": "python"
    }
  },
  "cells": [
    {
      "cell_type": "markdown",
      "metadata": {
        "id": "view-in-github",
        "colab_type": "text"
      },
      "source": [
        "<a href=\"https://colab.research.google.com/github/huypham090300/Pythonnangcao/blob/main/Lab05.ipynb\" target=\"_parent\"><img src=\"https://colab.research.google.com/assets/colab-badge.svg\" alt=\"Open In Colab\"/></a>"
      ]
    },
    {
      "cell_type": "markdown",
      "metadata": {
        "id": "BCdqhlYHj0FQ"
      },
      "source": [
        "Câu 1"
      ]
    },
    {
      "cell_type": "code",
      "metadata": {
        "id": "HtWWbc02jxHl"
      },
      "source": [
        "class Country:\n",
        "  def __init__(self, name: str, population: int, area:float):\n",
        "    self.name = name\n",
        "    self.population = population\n",
        "    self.area = area\n",
        "  def is_larger(self, other):\n",
        "    if (self.area > other.area):\n",
        "      return True\n",
        "    else:\n",
        "      return False\n",
        "  def population_destiny(self):\n",
        "    return self.population/self.area\n",
        "  def __str__ (self):\n",
        "    return ('{} has a population of {} and is {} sqare km'.format(self.name, self.population, self.area))\n",
        "  def __repr__(self):\n",
        "    return (\"Country('{0}', {1}, {2})\".format(self.name, self.population, self.area))\n",
        "usa = Country('United States of America', 313914040, 9826675)\n",
        "canada = Country(\"Cananda\", 34482779, 9984670)\n",
        "mexico = Country('Mexico', 112336538, 1943950)"
      ],
      "execution_count": null,
      "outputs": []
    },
    {
      "cell_type": "code",
      "metadata": {
        "id": "fFKLCG3XcwNe",
        "colab": {
          "base_uri": "https://localhost:8080/"
        },
        "outputId": "41b8ae82-01da-4ee3-ef44-c3c827eb62f1"
      },
      "source": [
        "#Câu a\n",
        "print(canada.name)\n",
        "print(canada.population)\n",
        "print(canada.area)"
      ],
      "execution_count": null,
      "outputs": [
        {
          "output_type": "stream",
          "name": "stdout",
          "text": [
            "Cananda\n",
            "34482779\n",
            "9984670\n"
          ]
        }
      ]
    },
    {
      "cell_type": "code",
      "metadata": {
        "id": "7p0UpC1zVy6S",
        "colab": {
          "base_uri": "https://localhost:8080/"
        },
        "outputId": "d22d7d83-4468-4ba1-f1ea-da598d51838f"
      },
      "source": [
        "#Câu b\n",
        "print(canada.is_larger(usa))\n",
        "print(usa.is_larger(canada))"
      ],
      "execution_count": null,
      "outputs": [
        {
          "output_type": "stream",
          "name": "stdout",
          "text": [
            "True\n",
            "False\n"
          ]
        }
      ]
    },
    {
      "cell_type": "code",
      "metadata": {
        "id": "RiNCoAzRbz1w",
        "colab": {
          "base_uri": "https://localhost:8080/"
        },
        "outputId": "8e3324b4-c250-49b6-97dc-359464da70d6"
      },
      "source": [
        "#Câu c\n",
        "print(canada.population_destiny())"
      ],
      "execution_count": null,
      "outputs": [
        {
          "output_type": "stream",
          "name": "stdout",
          "text": [
            "3.4535722262227995\n"
          ]
        }
      ]
    },
    {
      "cell_type": "code",
      "metadata": {
        "id": "nykFr0J1czdZ",
        "colab": {
          "base_uri": "https://localhost:8080/"
        },
        "outputId": "153bafdd-26bf-45af-a34d-ee9e52ead2ae"
      },
      "source": [
        "#Câu d\n",
        "usa = Country('United States of America', 313914040, 9826675)\n",
        "print(usa)"
      ],
      "execution_count": null,
      "outputs": [
        {
          "output_type": "stream",
          "name": "stdout",
          "text": [
            "United States of America has a population of 313914040 and is 9826675 sqare km\n"
          ]
        }
      ]
    },
    {
      "cell_type": "code",
      "metadata": {
        "id": "yAX9rEuadTnK",
        "colab": {
          "base_uri": "https://localhost:8080/"
        },
        "outputId": "2d01ce85-0526-4e72-8876-d3108998d58d"
      },
      "source": [
        "#Câu e\n",
        "canada = Country('Canada', 34482779, 9984670)\n",
        "print(canada)\n",
        "print([canada])"
      ],
      "execution_count": null,
      "outputs": [
        {
          "output_type": "stream",
          "name": "stdout",
          "text": [
            "Canada has a population of 34482779 and is 9984670 sqare km\n",
            "[Country('Canada', 34482779, 9984670)]\n"
          ]
        }
      ]
    },
    {
      "cell_type": "markdown",
      "metadata": {
        "id": "ejqFfvzo3qY7"
      },
      "source": [
        "Câu 2\n"
      ]
    },
    {
      "cell_type": "code",
      "metadata": {
        "id": "qtsIGbIs3rM_",
        "colab": {
          "base_uri": "https://localhost:8080/"
        },
        "outputId": "5cee0c36-f434-40ed-ce89-fb98a3bb541b"
      },
      "source": [
        "class Continent(Country):\n",
        "    def __init__(self,name, countries):\n",
        "      self.name = name\n",
        "      self.countries = countries\n",
        "    def total_population(self):\n",
        "      total = 0\n",
        "      for country in north_america.countries:\n",
        "        total += country.population\n",
        "      return total\n",
        "    def america(self):\n",
        "      num = 0\n",
        "      for country in north_america.countries:\n",
        "        num+=1\n",
        "        print(country)\n",
        "      return ''\n",
        "mexico = Country('Mexico', 112336538, 1943950)\n",
        "countries = [canada, usa, mexico]\n",
        "north_america = Continent('North America', countries)\n",
        "##Câu a\n",
        "print(mexico)\n",
        "print(north_america.name)\n",
        "print('--------------------------------')\n",
        "##Câu b\n",
        "print('The total population of the three countries is :')\n",
        "print(north_america.total_population())\n",
        "print('--------------------------------')\n",
        "##Câu c\n",
        "print(north_america.america())"
      ],
      "execution_count": null,
      "outputs": [
        {
          "output_type": "stream",
          "name": "stdout",
          "text": [
            "Mexico has a population of 112336538 and is 1943950 sqare km\n",
            "North America\n",
            "--------------------------------\n",
            "The total population of the three countries is :\n",
            "460733357\n",
            "--------------------------------\n",
            "Cananda has a population of 34482779 and is 9984670 sqare km\n",
            "United States of America has a population of 313914040 and is 9826675 sqare km\n",
            "Mexico has a population of 112336538 and is 1943950 sqare km\n",
            "\n"
          ]
        }
      ]
    },
    {
      "cell_type": "markdown",
      "metadata": {
        "id": "33U7H1zFK5-9"
      },
      "source": [
        "Câu 3"
      ]
    },
    {
      "cell_type": "markdown",
      "metadata": {
        "id": "fGq4Vydt5Jsn"
      },
      "source": [
        "Câu 4"
      ]
    },
    {
      "cell_type": "code",
      "metadata": {
        "id": "ipYfJPXg8Stv",
        "outputId": "0178caf1-f00e-4623-f2b0-da0d67b0c6ca",
        "colab": {
          "base_uri": "https://localhost:8080/"
        }
      },
      "source": [
        "class Nematode:\n",
        "  def __init__(self, lenght:int, gender:str, age: int):\n",
        "    self.lenght = lenght\n",
        "    self.gender = gender\n",
        "    self.age = age\n",
        "  def __str__(self):\n",
        "    return ('Celegan is : \\n+ lenght {}mm \\n+ gender is {} \\n+ age = {} days '.format(self.lenght, self.gender, self.age))\n",
        "  def __repr__(self):\n",
        "    return ('{} {} {}'.format(self.lenght, self.gender, self.age))\n",
        "Celegan = Nematode(1, 'male', 9)\n",
        "print(Celegan.__str__())\n",
        "print(Celegan.__repr__())"
      ],
      "execution_count": 30,
      "outputs": [
        {
          "output_type": "stream",
          "name": "stdout",
          "text": [
            "Celegan is : \n",
            "+ lenght 1mm \n",
            "+ gender is male \n",
            "+ age = 9 days \n",
            "1 male 9\n"
          ]
        }
      ]
    }
  ]
}