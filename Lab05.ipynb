{
  "nbformat": 4,
  "nbformat_minor": 0,
  "metadata": {
    "colab": {
      "name": "Untitled3.ipynb",
      "provenance": [],
      "authorship_tag": "ABX9TyNw/+v6evbJxPDxctp94Ts2",
      "include_colab_link": true
    },
    "kernelspec": {
      "name": "python3",
      "display_name": "Python 3"
    },
    "language_info": {
      "name": "python"
    }
  },
  "cells": [
    {
      "cell_type": "markdown",
      "metadata": {
        "id": "view-in-github",
        "colab_type": "text"
      },
      "source": [
        "<a href=\"https://colab.research.google.com/github/huypham090300/Pythonnangcao/blob/main/Lab05.ipynb\" target=\"_parent\"><img src=\"https://colab.research.google.com/assets/colab-badge.svg\" alt=\"Open In Colab\"/></a>"
      ]
    },
    {
      "cell_type": "markdown",
      "metadata": {
        "id": "BCdqhlYHj0FQ"
      },
      "source": [
        "Câu 1"
      ]
    },
    {
      "cell_type": "code",
      "metadata": {
        "id": "HtWWbc02jxHl"
      },
      "source": [
        "class Country:\n",
        "  def __init__(self, name: str, population: int, area:float):\n",
        "    self.name = name\n",
        "    self.population = population\n",
        "    self.area = area\n",
        "  def is_larger(self, other):\n",
        "    if (self.area > other.area):\n",
        "      return True\n",
        "    else:\n",
        "      return False\n",
        "  def population_destiny(self):\n",
        "    return self.population/self.area\n",
        "  def __str__ (self):\n",
        "    return ('{} has a population of {} and is {} sqare km'.format(self.name, self.population, self.area))\n",
        "  def __repr__(self):\n",
        "    return (\"Country('{0}', {1}, {2})\".format(self.name, self.population, self.area))\n",
        "usa = Country('United States of America', 313914040, 9826675)\n",
        "canada = Country(\"Cananda\", 34482779, 9984670)\n",
        "mexico = Country('Mexico', 112336538, 1943950)"
      ],
      "execution_count": 1,
      "outputs": []
    },
    {
      "cell_type": "code",
      "metadata": {
        "id": "fFKLCG3XcwNe",
        "colab": {
          "base_uri": "https://localhost:8080/"
        },
        "outputId": "41b8ae82-01da-4ee3-ef44-c3c827eb62f1"
      },
      "source": [
        "#Câu a\n",
        "print(canada.name)\n",
        "print(canada.population)\n",
        "print(canada.area)"
      ],
      "execution_count": null,
      "outputs": [
        {
          "output_type": "stream",
          "name": "stdout",
          "text": [
            "Cananda\n",
            "34482779\n",
            "9984670\n"
          ]
        }
      ]
    },
    {
      "cell_type": "code",
      "metadata": {
        "id": "7p0UpC1zVy6S",
        "colab": {
          "base_uri": "https://localhost:8080/"
        },
        "outputId": "d22d7d83-4468-4ba1-f1ea-da598d51838f"
      },
      "source": [
        "#Câu b\n",
        "print(canada.is_larger(usa))\n",
        "print(usa.is_larger(canada))"
      ],
      "execution_count": null,
      "outputs": [
        {
          "output_type": "stream",
          "name": "stdout",
          "text": [
            "True\n",
            "False\n"
          ]
        }
      ]
    },
    {
      "cell_type": "code",
      "metadata": {
        "id": "RiNCoAzRbz1w",
        "colab": {
          "base_uri": "https://localhost:8080/"
        },
        "outputId": "8e3324b4-c250-49b6-97dc-359464da70d6"
      },
      "source": [
        "#Câu c\n",
        "print(canada.population_destiny())"
      ],
      "execution_count": null,
      "outputs": [
        {
          "output_type": "stream",
          "name": "stdout",
          "text": [
            "3.4535722262227995\n"
          ]
        }
      ]
    },
    {
      "cell_type": "code",
      "metadata": {
        "id": "nykFr0J1czdZ",
        "colab": {
          "base_uri": "https://localhost:8080/"
        },
        "outputId": "153bafdd-26bf-45af-a34d-ee9e52ead2ae"
      },
      "source": [
        "#Câu d\n",
        "usa = Country('United States of America', 313914040, 9826675)\n",
        "print(usa)"
      ],
      "execution_count": null,
      "outputs": [
        {
          "output_type": "stream",
          "name": "stdout",
          "text": [
            "United States of America has a population of 313914040 and is 9826675 sqare km\n"
          ]
        }
      ]
    },
    {
      "cell_type": "code",
      "metadata": {
        "id": "yAX9rEuadTnK",
        "colab": {
          "base_uri": "https://localhost:8080/"
        },
        "outputId": "2d01ce85-0526-4e72-8876-d3108998d58d"
      },
      "source": [
        "#Câu e\n",
        "canada = Country('Canada', 34482779, 9984670)\n",
        "print(canada)\n",
        "print([canada])"
      ],
      "execution_count": null,
      "outputs": [
        {
          "output_type": "stream",
          "name": "stdout",
          "text": [
            "Canada has a population of 34482779 and is 9984670 sqare km\n",
            "[Country('Canada', 34482779, 9984670)]\n"
          ]
        }
      ]
    },
    {
      "cell_type": "markdown",
      "metadata": {
        "id": "ejqFfvzo3qY7"
      },
      "source": [
        "Câu 2\n"
      ]
    },
    {
      "cell_type": "code",
      "metadata": {
        "id": "qtsIGbIs3rM_",
        "outputId": "7871e661-bd0c-4d64-ba88-44d065d7b8d5",
        "colab": {
          "base_uri": "https://localhost:8080/",
          "height": 442
        }
      },
      "source": [
        "class Country:\n",
        "  def __init__(self, name: str, population: int, area:float):\n",
        "    self.name = name\n",
        "    self.population = population\n",
        "    self.area = area\n",
        "  def __str__ (self):\n",
        "    return ('{} has a population of {} and is {} sqare km'.format(self.name, self.population, self.area))\n",
        "class Continent(Country):\n",
        "  def __init__(self,name: str, countries: [Country]):\n",
        "    self.name = name\n",
        "    self.countries = countries\n",
        "  def total_population(self):\n",
        "    total = 0\n",
        "    for country in north_america.countries:\n",
        "      total = total + country.population\n",
        "    return (total)\n",
        "  canada = Country('Canada', 34482779, 9984670)\n",
        "  usa = Country('United States of America', 313914040,9826675)\n",
        "  mexico = Country('Mexico', 112336538, 1943950)\n",
        "  countries = [canada, usa, mexico]\n",
        "  north_america = Continent('North America', countries)\n",
        "  ##Câu a\n",
        "  print(canada)\n",
        "  print(usa)\n",
        "  print(mexico)\n",
        "  print(north_america.name)\n",
        "  ###Câu b\n",
        "  print(north_america.total_population())"
      ],
      "execution_count": 54,
      "outputs": [
        {
          "output_type": "stream",
          "name": "stdout",
          "text": [
            "Canada has a population of 34482779 and is 9984670 sqare km\n",
            "United States of America has a population of 313914040 and is 9826675 sqare km\n",
            "Mexico has a population of 112336538 and is 1943950 sqare km\n",
            "North America\n"
          ]
        },
        {
          "output_type": "error",
          "ename": "NameError",
          "evalue": "ignored",
          "traceback": [
            "\u001b[0;31m---------------------------------------------------------------------------\u001b[0m",
            "\u001b[0;31mNameError\u001b[0m                                 Traceback (most recent call last)",
            "\u001b[0;32m<ipython-input-54-2745786cc53e>\u001b[0m in \u001b[0;36m<module>\u001b[0;34m()\u001b[0m\n\u001b[1;32m      6\u001b[0m   \u001b[0;32mdef\u001b[0m \u001b[0m__str__\u001b[0m \u001b[0;34m(\u001b[0m\u001b[0mself\u001b[0m\u001b[0;34m)\u001b[0m\u001b[0;34m:\u001b[0m\u001b[0;34m\u001b[0m\u001b[0;34m\u001b[0m\u001b[0m\n\u001b[1;32m      7\u001b[0m     \u001b[0;32mreturn\u001b[0m \u001b[0;34m(\u001b[0m\u001b[0;34m'{} has a population of {} and is {} sqare km'\u001b[0m\u001b[0;34m.\u001b[0m\u001b[0mformat\u001b[0m\u001b[0;34m(\u001b[0m\u001b[0mself\u001b[0m\u001b[0;34m.\u001b[0m\u001b[0mname\u001b[0m\u001b[0;34m,\u001b[0m \u001b[0mself\u001b[0m\u001b[0;34m.\u001b[0m\u001b[0mpopulation\u001b[0m\u001b[0;34m,\u001b[0m \u001b[0mself\u001b[0m\u001b[0;34m.\u001b[0m\u001b[0marea\u001b[0m\u001b[0;34m)\u001b[0m\u001b[0;34m)\u001b[0m\u001b[0;34m\u001b[0m\u001b[0;34m\u001b[0m\u001b[0m\n\u001b[0;32m----> 8\u001b[0;31m \u001b[0;32mclass\u001b[0m \u001b[0mContinent\u001b[0m\u001b[0;34m(\u001b[0m\u001b[0mCountry\u001b[0m\u001b[0;34m)\u001b[0m\u001b[0;34m:\u001b[0m\u001b[0;34m\u001b[0m\u001b[0;34m\u001b[0m\u001b[0m\n\u001b[0m\u001b[1;32m      9\u001b[0m   \u001b[0;32mdef\u001b[0m \u001b[0m__init__\u001b[0m\u001b[0;34m(\u001b[0m\u001b[0mself\u001b[0m\u001b[0;34m,\u001b[0m\u001b[0mname\u001b[0m\u001b[0;34m:\u001b[0m \u001b[0mstr\u001b[0m\u001b[0;34m,\u001b[0m \u001b[0mcountries\u001b[0m\u001b[0;34m:\u001b[0m \u001b[0;34m[\u001b[0m\u001b[0mCountry\u001b[0m\u001b[0;34m]\u001b[0m\u001b[0;34m)\u001b[0m\u001b[0;34m:\u001b[0m\u001b[0;34m\u001b[0m\u001b[0;34m\u001b[0m\u001b[0m\n\u001b[1;32m     10\u001b[0m     \u001b[0mself\u001b[0m\u001b[0;34m.\u001b[0m\u001b[0mname\u001b[0m \u001b[0;34m=\u001b[0m \u001b[0mname\u001b[0m\u001b[0;34m\u001b[0m\u001b[0;34m\u001b[0m\u001b[0m\n",
            "\u001b[0;32m<ipython-input-54-2745786cc53e>\u001b[0m in \u001b[0;36mContinent\u001b[0;34m()\u001b[0m\n\u001b[1;32m     26\u001b[0m   \u001b[0mprint\u001b[0m\u001b[0;34m(\u001b[0m\u001b[0mnorth_america\u001b[0m\u001b[0;34m.\u001b[0m\u001b[0mname\u001b[0m\u001b[0;34m)\u001b[0m\u001b[0;34m\u001b[0m\u001b[0;34m\u001b[0m\u001b[0m\n\u001b[1;32m     27\u001b[0m   \u001b[0;31m###Câu b\u001b[0m\u001b[0;34m\u001b[0m\u001b[0;34m\u001b[0m\u001b[0;34m\u001b[0m\u001b[0m\n\u001b[0;32m---> 28\u001b[0;31m   \u001b[0mprint\u001b[0m\u001b[0;34m(\u001b[0m\u001b[0mnorth_america\u001b[0m\u001b[0;34m.\u001b[0m\u001b[0mtotal_population\u001b[0m\u001b[0;34m(\u001b[0m\u001b[0;34m)\u001b[0m\u001b[0;34m)\u001b[0m\u001b[0;34m\u001b[0m\u001b[0;34m\u001b[0m\u001b[0m\n\u001b[0m",
            "\u001b[0;32m<ipython-input-53-049376ef6df5>\u001b[0m in \u001b[0;36mtotal_population\u001b[0;34m(self)\u001b[0m\n\u001b[1;32m     12\u001b[0m   \u001b[0;32mdef\u001b[0m \u001b[0mtotal_population\u001b[0m\u001b[0;34m(\u001b[0m\u001b[0mself\u001b[0m\u001b[0;34m)\u001b[0m\u001b[0;34m:\u001b[0m\u001b[0;34m\u001b[0m\u001b[0;34m\u001b[0m\u001b[0m\n\u001b[1;32m     13\u001b[0m     \u001b[0mtotal\u001b[0m \u001b[0;34m=\u001b[0m \u001b[0;36m0\u001b[0m\u001b[0;34m\u001b[0m\u001b[0;34m\u001b[0m\u001b[0m\n\u001b[0;32m---> 14\u001b[0;31m     \u001b[0;32mfor\u001b[0m \u001b[0mcountry\u001b[0m \u001b[0;32min\u001b[0m \u001b[0mnorth_america\u001b[0m\u001b[0;34m.\u001b[0m\u001b[0mcountries\u001b[0m\u001b[0;34m:\u001b[0m\u001b[0;34m\u001b[0m\u001b[0;34m\u001b[0m\u001b[0m\n\u001b[0m\u001b[1;32m     15\u001b[0m       \u001b[0mtotal\u001b[0m \u001b[0;34m=\u001b[0m \u001b[0mtotal\u001b[0m \u001b[0;34m+\u001b[0m \u001b[0mcountry\u001b[0m\u001b[0;34m.\u001b[0m\u001b[0mpopulation\u001b[0m\u001b[0;34m\u001b[0m\u001b[0;34m\u001b[0m\u001b[0m\n\u001b[1;32m     16\u001b[0m     \u001b[0;32mreturn\u001b[0m \u001b[0;34m(\u001b[0m\u001b[0mtotal\u001b[0m\u001b[0;34m)\u001b[0m\u001b[0;34m\u001b[0m\u001b[0;34m\u001b[0m\u001b[0m\n",
            "\u001b[0;31mNameError\u001b[0m: name 'north_america' is not defined"
          ]
        }
      ]
    },
    {
      "cell_type": "code",
      "metadata": {
        "id": "sIA_M8OcQkgV",
        "outputId": "404e7ed7-df3a-4f35-8deb-f7cb542e246b",
        "colab": {
          "base_uri": "https://localhost:8080/",
          "height": 180
        }
      },
      "source": [
        ""
      ],
      "execution_count": 52,
      "outputs": [
        {
          "output_type": "error",
          "ename": "NameError",
          "evalue": "ignored",
          "traceback": [
            "\u001b[0;31m---------------------------------------------------------------------------\u001b[0m",
            "\u001b[0;31mNameError\u001b[0m                                 Traceback (most recent call last)",
            "\u001b[0;32m<ipython-input-52-de5db4b679ad>\u001b[0m in \u001b[0;36m<module>\u001b[0;34m()\u001b[0m\n\u001b[1;32m      1\u001b[0m \u001b[0;31m###Câu b\u001b[0m\u001b[0;34m\u001b[0m\u001b[0;34m\u001b[0m\u001b[0;34m\u001b[0m\u001b[0m\n\u001b[0;32m----> 2\u001b[0;31m \u001b[0mprint\u001b[0m\u001b[0;34m(\u001b[0m\u001b[0mnorth_america\u001b[0m\u001b[0;34m.\u001b[0m\u001b[0mtotal_population\u001b[0m\u001b[0;34m(\u001b[0m\u001b[0;34m)\u001b[0m\u001b[0;34m)\u001b[0m\u001b[0;34m\u001b[0m\u001b[0;34m\u001b[0m\u001b[0m\n\u001b[0m",
            "\u001b[0;31mNameError\u001b[0m: name 'north_america' is not defined"
          ]
        }
      ]
    },
    {
      "cell_type": "markdown",
      "metadata": {
        "id": "33U7H1zFK5-9"
      },
      "source": [
        "Câu 3"
      ]
    },
    {
      "cell_type": "code",
      "metadata": {
        "id": "86bEuAfmK601"
      },
      "source": [
        ""
      ],
      "execution_count": null,
      "outputs": []
    }
  ]
}