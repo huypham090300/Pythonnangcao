{
  "nbformat": 4,
  "nbformat_minor": 0,
  "metadata": {
    "colab": {
      "name": "Untitled2.ipynb",
      "provenance": [],
      "authorship_tag": "ABX9TyOI9uqXwR35w0+dZeoOdrgt",
      "include_colab_link": true
    },
    "kernelspec": {
      "name": "python3",
      "display_name": "Python 3"
    },
    "language_info": {
      "name": "python"
    }
  },
  "cells": [
    {
      "cell_type": "markdown",
      "metadata": {
        "id": "view-in-github",
        "colab_type": "text"
      },
      "source": [
        "<a href=\"https://colab.research.google.com/github/huypham090300/Pythonnangcao/blob/main/Lab04.ipynb\" target=\"_parent\"><img src=\"https://colab.research.google.com/assets/colab-badge.svg\" alt=\"Open In Colab\"/></a>"
      ]
    },
    {
      "cell_type": "markdown",
      "metadata": {
        "id": "0TjpxNgzDi77"
      },
      "source": [
        "Câu 1"
      ]
    },
    {
      "cell_type": "code",
      "metadata": {
        "colab": {
          "base_uri": "https://localhost:8080/"
        },
        "id": "DB_bu4QMDVLm",
        "outputId": "61fc9c33-5906-4f67-993c-458a0d483fb6"
      },
      "source": [
        "def find_dups(L):\n",
        "  elem_set = set()\n",
        "  dups_set = set()\n",
        "  for entry in L:\n",
        "    len_initial = len(elem_set)\n",
        "    elem_set.add(entry)\n",
        "    len_after = len(elem_set)\n",
        "    if len_initial == len_after:\n",
        "      dups_set.add(entry)\n",
        "  return(dups_set)\n",
        "find_dups([1, 1, 2, 3, 4, 2])"
      ],
      "execution_count": 8,
      "outputs": [
        {
          "output_type": "execute_result",
          "data": {
            "text/plain": [
              "{1, 2}"
            ]
          },
          "metadata": {},
          "execution_count": 8
        }
      ]
    },
    {
      "cell_type": "code",
      "metadata": {
        "colab": {
          "base_uri": "https://localhost:8080/"
        },
        "id": "VDmc3VPQOEWV",
        "outputId": "24b37700-c443-4e91-fdda-ede7761c3ae0"
      },
      "source": [
        "find_dups([1, 2, 3, 4])"
      ],
      "execution_count": 20,
      "outputs": [
        {
          "output_type": "execute_result",
          "data": {
            "text/plain": [
              "set()"
            ]
          },
          "metadata": {},
          "execution_count": 20
        }
      ]
    },
    {
      "cell_type": "markdown",
      "metadata": {
        "id": "0_ndaUJfUAK3"
      },
      "source": [
        "Câu 2\n"
      ]
    },
    {
      "cell_type": "code",
      "metadata": {
        "colab": {
          "base_uri": "https://localhost:8080/"
        },
        "id": "EwyDpleIT-tH",
        "outputId": "be590c74-d41e-46cf-8bc5-29abbcb4a465"
      },
      "source": [
        "def mating_pairs(males, females):\n",
        "  pairs = set()\n",
        "  num_gerbils = len(males)\n",
        "  for i in range(num_gerbils):\n",
        "    male = males.pop()\n",
        "    female = females.pop()\n",
        "    pairs.add((male, female),)\n",
        "  return pairs\n",
        "mating_pairs({'Anne', 'Beatrice', 'Cari'}, {'Ali', 'Bob', 'Chen'})"
      ],
      "execution_count": 23,
      "outputs": [
        {
          "output_type": "execute_result",
          "data": {
            "text/plain": [
              "{('Anne', 'Bob'), ('Beatrice', 'Chen'), ('Cari', 'Ali')}"
            ]
          },
          "metadata": {},
          "execution_count": 23
        }
      ]
    },
    {
      "cell_type": "markdown",
      "metadata": {
        "id": "qHQv2Lg1aVX3"
      },
      "source": [
        "Câu 3"
      ]
    },
    {
      "cell_type": "code",
      "metadata": {
        "colab": {
          "base_uri": "https://localhost:8080/"
        },
        "id": "S5XEFksXYujU",
        "outputId": "de098373-9393-47ac-a63a-b510610c5b9b"
      },
      "source": [
        "def mating_pairs(males, females):\n",
        "  pairs = set()\n",
        "  num_gerbils = len(males)\n",
        "  for i in range(num_gerbils):\n",
        "    male = males.pop()\n",
        "    female = females.pop()\n",
        "    pairs.add((male, female),)\n",
        "  return pairs\n",
        "mating_pairs({'Mouse', 'Tiger', 'Dragon'}, {1,3,5})"
      ],
      "execution_count": 26,
      "outputs": [
        {
          "output_type": "execute_result",
          "data": {
            "text/plain": [
              "{('Dragon', 5), ('Mouse', 1), ('Tiger', 3)}"
            ]
          },
          "metadata": {},
          "execution_count": 26
        }
      ]
    }
  ]
}