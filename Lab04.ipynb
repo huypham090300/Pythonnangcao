{
  "nbformat": 4,
  "nbformat_minor": 0,
  "metadata": {
    "colab": {
      "name": "Untitled2.ipynb",
      "provenance": [],
      "authorship_tag": "ABX9TyO0ph7jv9ZB29i3VF8ZZAVY",
      "include_colab_link": true
    },
    "kernelspec": {
      "name": "python3",
      "display_name": "Python 3"
    },
    "language_info": {
      "name": "python"
    }
  },
  "cells": [
    {
      "cell_type": "markdown",
      "metadata": {
        "id": "view-in-github",
        "colab_type": "text"
      },
      "source": [
        "<a href=\"https://colab.research.google.com/github/huypham090300/Pythonnangcao/blob/main/Lab04.ipynb\" target=\"_parent\"><img src=\"https://colab.research.google.com/assets/colab-badge.svg\" alt=\"Open In Colab\"/></a>"
      ]
    },
    {
      "cell_type": "markdown",
      "metadata": {
        "id": "0TjpxNgzDi77"
      },
      "source": [
        "Câu 1"
      ]
    },
    {
      "cell_type": "code",
      "metadata": {
        "colab": {
          "base_uri": "https://localhost:8080/"
        },
        "id": "DB_bu4QMDVLm",
        "outputId": "61fc9c33-5906-4f67-993c-458a0d483fb6"
      },
      "source": [
        "def find_dups(L):\n",
        "  elem_set = set()\n",
        "  dups_set = set()\n",
        "  for entry in L:\n",
        "    len_initial = len(elem_set)\n",
        "    elem_set.add(entry)\n",
        "    len_after = len(elem_set)\n",
        "    if len_initial == len_after:\n",
        "      dups_set.add(entry)\n",
        "  return(dups_set)\n",
        "find_dups([1, 1, 2, 3, 4, 2])"
      ],
      "execution_count": null,
      "outputs": [
        {
          "output_type": "execute_result",
          "data": {
            "text/plain": [
              "{1, 2}"
            ]
          },
          "metadata": {},
          "execution_count": 8
        }
      ]
    },
    {
      "cell_type": "code",
      "metadata": {
        "colab": {
          "base_uri": "https://localhost:8080/"
        },
        "id": "VDmc3VPQOEWV",
        "outputId": "24b37700-c443-4e91-fdda-ede7761c3ae0"
      },
      "source": [
        "find_dups([1, 2, 3, 4])"
      ],
      "execution_count": null,
      "outputs": [
        {
          "output_type": "execute_result",
          "data": {
            "text/plain": [
              "set()"
            ]
          },
          "metadata": {},
          "execution_count": 20
        }
      ]
    },
    {
      "cell_type": "markdown",
      "metadata": {
        "id": "0_ndaUJfUAK3"
      },
      "source": [
        "Câu 2\n"
      ]
    },
    {
      "cell_type": "code",
      "metadata": {
        "colab": {
          "base_uri": "https://localhost:8080/"
        },
        "id": "EwyDpleIT-tH",
        "outputId": "be590c74-d41e-46cf-8bc5-29abbcb4a465"
      },
      "source": [
        "def mating_pairs(males, females):\n",
        "  pairs = set()\n",
        "  num_gerbils = len(males)\n",
        "  for i in range(num_gerbils):\n",
        "    male = males.pop()\n",
        "    female = females.pop()\n",
        "    pairs.add((male, female),)\n",
        "  return pairs\n",
        "mating_pairs({'Anne', 'Beatrice', 'Cari'}, {'Ali', 'Bob', 'Chen'})"
      ],
      "execution_count": null,
      "outputs": [
        {
          "output_type": "execute_result",
          "data": {
            "text/plain": [
              "{('Anne', 'Bob'), ('Beatrice', 'Chen'), ('Cari', 'Ali')}"
            ]
          },
          "metadata": {},
          "execution_count": 23
        }
      ]
    },
    {
      "cell_type": "markdown",
      "metadata": {
        "id": "qHQv2Lg1aVX3"
      },
      "source": [
        "Câu 3"
      ]
    },
    {
      "cell_type": "code",
      "metadata": {
        "colab": {
          "base_uri": "https://localhost:8080/"
        },
        "id": "S5XEFksXYujU",
        "outputId": "59979a78-b467-4fa0-8966-45a36db18500"
      },
      "source": [
        "def mating_pairs(animals, nums):\n",
        "  pairs = set()\n",
        "  num_gerbils = len(animals)\n",
        "  for i in range(num_gerbils):\n",
        "    animal = animals.pop()\n",
        "    num = nums.pop()\n",
        "    pairs.add((animal, num),)\n",
        "  return pairs\n",
        "mating_pairs({'Mouse','Tiger','Dragon'}, {1,3,5})"
      ],
      "execution_count": null,
      "outputs": [
        {
          "output_type": "execute_result",
          "data": {
            "text/plain": [
              "{('Dragon', 3), ('Mouse', 1), ('Tiger', 5)}"
            ]
          },
          "metadata": {},
          "execution_count": 3
        }
      ]
    },
    {
      "cell_type": "markdown",
      "metadata": {
        "id": "DsZBLDebXHHl"
      },
      "source": [
        "Câu 5"
      ]
    },
    {
      "cell_type": "code",
      "metadata": {
        "id": "sKPN1xA5TrEC",
        "colab": {
          "base_uri": "https://localhost:8080/"
        },
        "outputId": "fbd37d6a-594f-4311-a62d-4f82b2e78c7b"
      },
      "source": [
        "def count_values(dic):\n",
        "  fun = []\n",
        "  for key, value in dic.items():\n",
        "    fun.append(value)\n",
        "  for key, value in dic.items():\n",
        "    count = 0\n",
        "    for i in fun:\n",
        "      if i == value:\n",
        "        count = count + 1\n",
        "    if count == 1:\n",
        "      print(value)\n",
        "dic = {'red': 1, 'green': 1, 'blue': 2}\n",
        "count_values(dic)"
      ],
      "execution_count": null,
      "outputs": [
        {
          "output_type": "stream",
          "name": "stdout",
          "text": [
            "2\n"
          ]
        }
      ]
    },
    {
      "cell_type": "markdown",
      "metadata": {
        "id": "ub3ciiGieXN8"
      },
      "source": [
        "Câu 6"
      ]
    },
    {
      "cell_type": "code",
      "metadata": {
        "id": "tl6IY0O8eWQo",
        "colab": {
          "base_uri": "https://localhost:8080/"
        },
        "outputId": "6c04e2bd-78e6-4b8a-f755-e1836eadc774"
      },
      "source": [
        "def least(dic):\n",
        "  min = 999999999\n",
        "  for key, value in dic.items():\n",
        "    if value < min:\n",
        "      min = value\n",
        "      str1 = key\n",
        "    else:\n",
        "      continue\n",
        "  for key, value in dic.items():\n",
        "    if key == str1:\n",
        "      print(key)\n",
        "nguyentu = {'neutron': 0.55, 'proton': 0.21, 'meson': 0.03, 'muon': 0.07, 'neutrino': 0.80}\n",
        "least(nguyentu)"
      ],
      "execution_count": 3,
      "outputs": [
        {
          "output_type": "stream",
          "name": "stdout",
          "text": [
            "meson\n"
          ]
        }
      ]
    },
    {
      "cell_type": "markdown",
      "metadata": {
        "id": "VTQafXd8d6uK"
      },
      "source": [
        "Câu 7"
      ]
    },
    {
      "cell_type": "code",
      "metadata": {
        "id": "MS1K1E8rd7rT",
        "colab": {
          "base_uri": "https://localhost:8080/"
        },
        "outputId": "8f65748d-5875-4455-b449-07f5bdaae734"
      },
      "source": [
        "def count_duplicates(dict):\n",
        "  fun = []\n",
        "  for key, value in dic.items():\n",
        "    if value in fun:\n",
        "      print(value)\n",
        "    else:\n",
        "      fun.append(value)\n",
        "dict = {1,9,7,2,5,7,6}\n",
        "count_duplicates(dict)"
      ],
      "execution_count": null,
      "outputs": [
        {
          "output_type": "stream",
          "name": "stdout",
          "text": [
            "1\n"
          ]
        }
      ]
    },
    {
      "cell_type": "markdown",
      "metadata": {
        "id": "uIfhuEJnmngc"
      },
      "source": [
        "Câu 8"
      ]
    },
    {
      "cell_type": "code",
      "metadata": {
        "id": "DuV6QhMVlXVA",
        "outputId": "1a353d94-f60d-40e1-d7b1-7086cd9f4481",
        "colab": {
          "base_uri": "https://localhost:8080/"
        }
      },
      "source": [
        "def is_balanced(dic):\n",
        "  balanced=0\n",
        "  for key, value in dic.items():\n",
        "    balanced += value\n",
        "  if balanced == 1:\n",
        "    return True\n",
        "  else:\n",
        "    return False\n",
        "color = {'R':0.3,'G':0.3,'B':0.2}\n",
        "is_balanced(color)\n",
        "\n"
      ],
      "execution_count": 4,
      "outputs": [
        {
          "output_type": "execute_result",
          "data": {
            "text/plain": [
              "False"
            ]
          },
          "metadata": {},
          "execution_count": 4
        }
      ]
    },
    {
      "cell_type": "markdown",
      "metadata": {
        "id": "mVybQ-a6rbNT"
      },
      "source": [
        "Câu 9"
      ]
    },
    {
      "cell_type": "code",
      "metadata": {
        "id": "ELtBOVwGrb6o",
        "outputId": "42047ea3-c409-4020-80a4-f5d82177028c",
        "colab": {
          "base_uri": "https://localhost:8080/"
        }
      },
      "source": [
        "def dict_intersect(dic1,dic2):\n",
        "  dic3 = {}\n",
        "  for key, value in dic1.items():\n",
        "    for key1, value1 in dic2.items():\n",
        "      if ((key == key1) and (value ==value1)):\n",
        "        dic3[key] = value\n",
        "  return dic3\n",
        "dic1 = {'red': 1, 'green': 1, 'blue': 2}\n",
        "dic2 = {'red': 1, 'green': 5, 'blue': 2, 'black': 4}\n",
        "dict_intersect(dic1,dic2)"
      ],
      "execution_count": 5,
      "outputs": [
        {
          "output_type": "execute_result",
          "data": {
            "text/plain": [
              "{'blue': 2, 'red': 1}"
            ]
          },
          "metadata": {},
          "execution_count": 5
        }
      ]
    },
    {
      "cell_type": "markdown",
      "metadata": {
        "id": "5UQklIxWxLwM"
      },
      "source": [
        "Câu 12\n"
      ]
    },
    {
      "cell_type": "code",
      "metadata": {
        "id": "AqncW12sxMt7",
        "outputId": "648a90c3-b4d2-4c4e-898c-d35cb504cc55",
        "colab": {
          "base_uri": "https://localhost:8080/"
        }
      },
      "source": [
        "def Slice_add(a,b):\n",
        "  sum = {}\n",
        "  def sum(Slice_add):\n",
        "    for key, value in a.items():\n",
        "      for key1, value1 in b.items():\n",
        "        for i in sum:\n",
        "          i = a[i] + b[i]\n",
        "    return sum\n",
        "  return Slice_add\n",
        "a = {1,2,3}\n",
        "b = {4,5,6}\n",
        "print(Slice_add)"
      ],
      "execution_count": 17,
      "outputs": [
        {
          "output_type": "stream",
          "name": "stdout",
          "text": [
            "<function Slice_add at 0x7ff9dc564050>\n"
          ]
        }
      ]
    }
  ]
}