{
  "nbformat": 4,
  "nbformat_minor": 0,
  "metadata": {
    "colab": {
      "name": "Untitled2.ipynb",
      "provenance": [],
      "authorship_tag": "ABX9TyO83gAhkaRKxLAAL+uko9+o",
      "include_colab_link": true
    },
    "kernelspec": {
      "name": "python3",
      "display_name": "Python 3"
    },
    "language_info": {
      "name": "python"
    }
  },
  "cells": [
    {
      "cell_type": "markdown",
      "metadata": {
        "id": "view-in-github",
        "colab_type": "text"
      },
      "source": [
        "<a href=\"https://colab.research.google.com/github/huypham090300/Pythonnangcao/blob/main/Lab04.ipynb\" target=\"_parent\"><img src=\"https://colab.research.google.com/assets/colab-badge.svg\" alt=\"Open In Colab\"/></a>"
      ]
    },
    {
      "cell_type": "markdown",
      "metadata": {
        "id": "0TjpxNgzDi77"
      },
      "source": [
        "Câu 1"
      ]
    },
    {
      "cell_type": "code",
      "metadata": {
        "colab": {
          "base_uri": "https://localhost:8080/"
        },
        "id": "DB_bu4QMDVLm",
        "outputId": "61fc9c33-5906-4f67-993c-458a0d483fb6"
      },
      "source": [
        "def find_dups(L):\n",
        "  elem_set = set()\n",
        "  dups_set = set()\n",
        "  for entry in L:\n",
        "    len_initial = len(elem_set)\n",
        "    elem_set.add(entry)\n",
        "    len_after = len(elem_set)\n",
        "    if len_initial == len_after:\n",
        "      dups_set.add(entry)\n",
        "  return(dups_set)\n",
        "find_dups([1, 1, 2, 3, 4, 2])"
      ],
      "execution_count": null,
      "outputs": [
        {
          "output_type": "execute_result",
          "data": {
            "text/plain": [
              "{1, 2}"
            ]
          },
          "metadata": {},
          "execution_count": 8
        }
      ]
    },
    {
      "cell_type": "code",
      "metadata": {
        "colab": {
          "base_uri": "https://localhost:8080/"
        },
        "id": "VDmc3VPQOEWV",
        "outputId": "24b37700-c443-4e91-fdda-ede7761c3ae0"
      },
      "source": [
        "find_dups([1, 2, 3, 4])"
      ],
      "execution_count": null,
      "outputs": [
        {
          "output_type": "execute_result",
          "data": {
            "text/plain": [
              "set()"
            ]
          },
          "metadata": {},
          "execution_count": 20
        }
      ]
    },
    {
      "cell_type": "markdown",
      "metadata": {
        "id": "0_ndaUJfUAK3"
      },
      "source": [
        "Câu 2\n"
      ]
    },
    {
      "cell_type": "code",
      "metadata": {
        "colab": {
          "base_uri": "https://localhost:8080/"
        },
        "id": "EwyDpleIT-tH",
        "outputId": "be590c74-d41e-46cf-8bc5-29abbcb4a465"
      },
      "source": [
        "def mating_pairs(males, females):\n",
        "  pairs = set()\n",
        "  num_gerbils = len(males)\n",
        "  for i in range(num_gerbils):\n",
        "    male = males.pop()\n",
        "    female = females.pop()\n",
        "    pairs.add((male, female),)\n",
        "  return pairs\n",
        "mating_pairs({'Anne', 'Beatrice', 'Cari'}, {'Ali', 'Bob', 'Chen'})"
      ],
      "execution_count": null,
      "outputs": [
        {
          "output_type": "execute_result",
          "data": {
            "text/plain": [
              "{('Anne', 'Bob'), ('Beatrice', 'Chen'), ('Cari', 'Ali')}"
            ]
          },
          "metadata": {},
          "execution_count": 23
        }
      ]
    },
    {
      "cell_type": "markdown",
      "metadata": {
        "id": "qHQv2Lg1aVX3"
      },
      "source": [
        "Câu 3"
      ]
    },
    {
      "cell_type": "code",
      "metadata": {
        "colab": {
          "base_uri": "https://localhost:8080/"
        },
        "id": "S5XEFksXYujU",
        "outputId": "59979a78-b467-4fa0-8966-45a36db18500"
      },
      "source": [
        "def mating_pairs(animals, nums):\n",
        "  pairs = set()\n",
        "  num_gerbils = len(animals)\n",
        "  for i in range(num_gerbils):\n",
        "    animal = animals.pop()\n",
        "    num = nums.pop()\n",
        "    pairs.add((animal, num),)\n",
        "  return pairs\n",
        "mating_pairs({'Mouse','Tiger','Dragon'}, {1,3,5})"
      ],
      "execution_count": null,
      "outputs": [
        {
          "output_type": "execute_result",
          "data": {
            "text/plain": [
              "{('Dragon', 3), ('Mouse', 1), ('Tiger', 5)}"
            ]
          },
          "metadata": {},
          "execution_count": 3
        }
      ]
    },
    {
      "cell_type": "markdown",
      "metadata": {
        "id": "DsZBLDebXHHl"
      },
      "source": [
        "Câu 5"
      ]
    },
    {
      "cell_type": "code",
      "metadata": {
        "id": "sKPN1xA5TrEC",
        "colab": {
          "base_uri": "https://localhost:8080/"
        },
        "outputId": "fbd37d6a-594f-4311-a62d-4f82b2e78c7b"
      },
      "source": [
        "def count_values(dic):\n",
        "  fun = []\n",
        "  for key, value in dic.items():\n",
        "    fun.append(value)\n",
        "  for key, value in dic.items():\n",
        "    count = 0\n",
        "    for i in fun:\n",
        "      if i == value:\n",
        "        count = count + 1\n",
        "    if count == 1:\n",
        "      print(value)\n",
        "dic = {'red': 1, 'green': 1, 'blue': 2}\n",
        "count_values(dic)"
      ],
      "execution_count": 6,
      "outputs": [
        {
          "output_type": "stream",
          "name": "stdout",
          "text": [
            "2\n"
          ]
        }
      ]
    },
    {
      "cell_type": "markdown",
      "metadata": {
        "id": "ub3ciiGieXN8"
      },
      "source": [
        "Câu 6"
      ]
    },
    {
      "cell_type": "code",
      "metadata": {
        "id": "tl6IY0O8eWQo",
        "colab": {
          "base_uri": "https://localhost:8080/"
        },
        "outputId": "44d701b6-b140-4f61-d9b6-6f8deb837a11"
      },
      "source": [
        "def subatomic(value, key):\n",
        "  min =0\n",
        "  for i in len(subatomic):\n",
        "    i +=1\n",
        "    if (i<min):\n",
        "      min = i\n",
        "  return subatomic\n",
        "subatomic = {'neutron': 0.55, 'proton': 0.21, 'meson': 0.03, 'muon': 0.07, 'neutrino': 0.14}\n",
        "print(subatomic)"
      ],
      "execution_count": null,
      "outputs": [
        {
          "output_type": "stream",
          "name": "stdout",
          "text": [
            "{'neutron': 0.55, 'proton': 0.21, 'meson': 0.03, 'muon': 0.07, 'neutrino': 0.14}\n"
          ]
        }
      ]
    },
    {
      "cell_type": "markdown",
      "metadata": {
        "id": "VTQafXd8d6uK"
      },
      "source": [
        "Câu 7"
      ]
    },
    {
      "cell_type": "code",
      "metadata": {
        "id": "MS1K1E8rd7rT",
        "colab": {
          "base_uri": "https://localhost:8080/"
        },
        "outputId": "8f65748d-5875-4455-b449-07f5bdaae734"
      },
      "source": [
        "def count_duplicates(dict):\n",
        "  fun = []\n",
        "  for key, value in dic.items():\n",
        "    if value in fun:\n",
        "      print(value)\n",
        "    else:\n",
        "      fun.append(value)\n",
        "dict = {1,9,7,2,5,7,6}\n",
        "count_duplicates(dict)"
      ],
      "execution_count": 8,
      "outputs": [
        {
          "output_type": "stream",
          "name": "stdout",
          "text": [
            "1\n"
          ]
        }
      ]
    },
    {
      "cell_type": "markdown",
      "metadata": {
        "id": "uIfhuEJnmngc"
      },
      "source": [
        "Câu 8"
      ]
    },
    {
      "cell_type": "code",
      "metadata": {
        "id": "DuV6QhMVlXVA"
      },
      "source": [
        "def is_called(colors, nums)->bool:\n",
        "  is_called = set()\n",
        "  return True\n",
        "is_called = ({'red','blue','green'})\n",
        "\n"
      ],
      "execution_count": null,
      "outputs": []
    }
  ]
}