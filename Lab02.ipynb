{
  "nbformat": 4,
  "nbformat_minor": 0,
  "metadata": {
    "colab": {
      "name": "Untitled0.ipynb",
      "provenance": [],
      "authorship_tag": "ABX9TyOPDGDEID3yT3/isTEgaoBC",
      "include_colab_link": true
    },
    "kernelspec": {
      "name": "python3",
      "display_name": "Python 3"
    },
    "language_info": {
      "name": "python"
    }
  },
  "cells": [
    {
      "cell_type": "markdown",
      "metadata": {
        "id": "view-in-github",
        "colab_type": "text"
      },
      "source": [
        "<a href=\"https://colab.research.google.com/github/huypham090300/Pythonnangcao/blob/main/Lab02.ipynb\" target=\"_parent\"><img src=\"https://colab.research.google.com/assets/colab-badge.svg\" alt=\"Open In Colab\"/></a>"
      ]
    },
    {
      "cell_type": "markdown",
      "metadata": {
        "id": "DP5o-kcmTteh"
      },
      "source": [
        "Chương 8"
      ]
    },
    {
      "cell_type": "markdown",
      "metadata": {
        "id": "MjQZuxrGVvFA"
      },
      "source": [
        "Bài 1"
      ]
    },
    {
      "cell_type": "code",
      "metadata": {
        "id": "33VqGVmuTptL",
        "colab": {
          "base_uri": "https://localhost:8080/"
        },
        "outputId": "ffd49166-6fd3-4243-8b92-f9a2fca83681"
      },
      "source": [
        "kingdoms =['Bacteria','Protozoa','Chromista','Plantae','Fungi','Animalia']\n",
        "print(kingdoms [0])"
      ],
      "execution_count": null,
      "outputs": [
        {
          "output_type": "stream",
          "name": "stdout",
          "text": [
            "Bacteria\n"
          ]
        }
      ]
    },
    {
      "cell_type": "code",
      "metadata": {
        "id": "mn04fiGJWtss",
        "colab": {
          "base_uri": "https://localhost:8080/"
        },
        "outputId": "c2eca00e-ba84-4e2d-c86d-8f340f7e52a3"
      },
      "source": [
        "print(kingdoms[5])"
      ],
      "execution_count": null,
      "outputs": [
        {
          "output_type": "stream",
          "name": "stdout",
          "text": [
            "Animalia\n"
          ]
        }
      ]
    },
    {
      "cell_type": "code",
      "metadata": {
        "id": "L2j07SbJW4fP",
        "colab": {
          "base_uri": "https://localhost:8080/"
        },
        "outputId": "2b214460-c8cf-4d46-866d-ec174bd82719"
      },
      "source": [
        "print(kingdoms[:3])"
      ],
      "execution_count": null,
      "outputs": [
        {
          "output_type": "stream",
          "name": "stdout",
          "text": [
            "['Bacteria', 'Protozoa', 'Chromista']\n"
          ]
        }
      ]
    },
    {
      "cell_type": "code",
      "metadata": {
        "id": "vqbhSpMzX1ca",
        "colab": {
          "base_uri": "https://localhost:8080/"
        },
        "outputId": "24e08a63-85f1-4398-fd91-f2c64219363c"
      },
      "source": [
        "print(kingdoms[2:5])"
      ],
      "execution_count": null,
      "outputs": [
        {
          "output_type": "stream",
          "name": "stdout",
          "text": [
            "['Chromista', 'Plantae', 'Fungi']\n"
          ]
        }
      ]
    },
    {
      "cell_type": "code",
      "metadata": {
        "id": "lZpNs9SfaJyj",
        "colab": {
          "base_uri": "https://localhost:8080/"
        },
        "outputId": "f2eab374-4225-4681-8eb6-8880a142c60d"
      },
      "source": [
        "print(kingdoms[4:])"
      ],
      "execution_count": null,
      "outputs": [
        {
          "output_type": "stream",
          "name": "stdout",
          "text": [
            "['Fungi', 'Animalia']\n"
          ]
        }
      ]
    },
    {
      "cell_type": "code",
      "metadata": {
        "id": "f432wN9BaixV",
        "colab": {
          "base_uri": "https://localhost:8080/"
        },
        "outputId": "85989e7c-bf99-4057-c79f-355a42b27d0c"
      },
      "source": [
        "kingdoms =[]\n",
        "print(kingdoms)"
      ],
      "execution_count": null,
      "outputs": [
        {
          "output_type": "stream",
          "name": "stdout",
          "text": [
            "[]\n"
          ]
        }
      ]
    },
    {
      "cell_type": "markdown",
      "metadata": {
        "id": "vulSxJNeb50Y"
      },
      "source": [
        "Bài 2"
      ]
    },
    {
      "cell_type": "code",
      "metadata": {
        "id": "8soxvrcwbj1N",
        "colab": {
          "base_uri": "https://localhost:8080/"
        },
        "outputId": "e3b43ab4-730d-43b2-a9e1-5029bf641565"
      },
      "source": [
        "kingdoms =['Bacteria','Protozoa','Chromista','Plantae','Fungi','Animalia']\n",
        "print(kingdoms[-6])"
      ],
      "execution_count": null,
      "outputs": [
        {
          "output_type": "stream",
          "name": "stdout",
          "text": [
            "Bacteria\n"
          ]
        }
      ]
    },
    {
      "cell_type": "code",
      "metadata": {
        "id": "zYTm61GSdXFj",
        "colab": {
          "base_uri": "https://localhost:8080/"
        },
        "outputId": "4ea371db-4967-4608-8882-93e86e378ece"
      },
      "source": [
        "print(kingdoms[-1])"
      ],
      "execution_count": null,
      "outputs": [
        {
          "output_type": "stream",
          "name": "stdout",
          "text": [
            "Animalia\n"
          ]
        }
      ]
    },
    {
      "cell_type": "code",
      "metadata": {
        "id": "EVLW5at-eYML",
        "colab": {
          "base_uri": "https://localhost:8080/"
        },
        "outputId": "e336a534-e854-44bf-f9ca-fe05fe9243cb"
      },
      "source": [
        "print(kingdoms[-6:-3])"
      ],
      "execution_count": null,
      "outputs": [
        {
          "output_type": "stream",
          "name": "stdout",
          "text": [
            "['Bacteria', 'Protozoa', 'Chromista']\n"
          ]
        }
      ]
    },
    {
      "cell_type": "code",
      "metadata": {
        "id": "GIR604txeekp",
        "colab": {
          "base_uri": "https://localhost:8080/"
        },
        "outputId": "e19278d9-1a08-46fc-8225-edae00d7168e"
      },
      "source": [
        "print(kingdoms[-4:-1])"
      ],
      "execution_count": null,
      "outputs": [
        {
          "output_type": "stream",
          "name": "stdout",
          "text": [
            "['Chromista', 'Plantae', 'Fungi']\n"
          ]
        }
      ]
    },
    {
      "cell_type": "code",
      "metadata": {
        "id": "-j-b5webe-B3",
        "colab": {
          "base_uri": "https://localhost:8080/"
        },
        "outputId": "f7d5b6e4-1607-4ddb-d670-3e26c4e55c41"
      },
      "source": [
        "print(kingdoms[-2:])"
      ],
      "execution_count": null,
      "outputs": [
        {
          "output_type": "stream",
          "name": "stdout",
          "text": [
            "['Fungi', 'Animalia']\n"
          ]
        }
      ]
    },
    {
      "cell_type": "code",
      "metadata": {
        "id": "PnH6KD7DgoNE",
        "colab": {
          "base_uri": "https://localhost:8080/"
        },
        "outputId": "30478e86-6e57-449b-8871-ff1785e47676"
      },
      "source": [
        "print(kingdoms[-1:-2])"
      ],
      "execution_count": null,
      "outputs": [
        {
          "output_type": "stream",
          "name": "stdout",
          "text": [
            "[]\n"
          ]
        }
      ]
    },
    {
      "cell_type": "markdown",
      "metadata": {
        "id": "YFUQ_gEvhTX5"
      },
      "source": [
        "Bài 3"
      ]
    },
    {
      "cell_type": "code",
      "metadata": {
        "id": "IuYaECzjhVCh",
        "colab": {
          "base_uri": "https://localhost:8080/"
        },
        "outputId": "d531c824-3a66-43b9-b64e-ab507b051f7f"
      },
      "source": [
        "appointment = ['9:00','10:30','14:00','15:00','15:30']\n",
        "appointment.append('16:30')\n",
        "print(appointment)"
      ],
      "execution_count": null,
      "outputs": [
        {
          "output_type": "stream",
          "name": "stdout",
          "text": [
            "['9:00', '10:30', '14:00', '15:00', '15:30', '16:30']\n"
          ]
        }
      ]
    },
    {
      "cell_type": "code",
      "metadata": {
        "id": "rWQxg0eBO1Lw",
        "colab": {
          "base_uri": "https://localhost:8080/"
        },
        "outputId": "faca2ddf-b7a4-42eb-87d2-21e30d694f60"
      },
      "source": [
        "appointment = ['9:00','10:30','14:00','15:00','15:30']\n",
        "new = ['16:30']\n",
        "appointment1 = appointment + new\n",
        "print (appointment1)"
      ],
      "execution_count": 3,
      "outputs": [
        {
          "output_type": "stream",
          "name": "stdout",
          "text": [
            "['9:00', '10:30', '14:00', '15:00', '15:30', '16:30']\n"
          ]
        }
      ]
    },
    {
      "cell_type": "code",
      "metadata": {
        "id": "vytGn-_6PFaW",
        "colab": {
          "base_uri": "https://localhost:8080/",
          "height": 52
        },
        "outputId": "f7758a5f-556d-4c12-c306-62744126869e"
      },
      "source": [
        "'#### Theo em cả 2 cách toán tử và append đều giống nhau, đều thêm biến 16:30 vào cuối danh sách và in ra 1 danh sách mới. Nhưng cách toán tử phải cộng theo thứ tự, nếu biến mới cộng danh sách thì khi in ra biến mới sẽ nằm ở đầu danh sách và ngược lại'"
      ],
      "execution_count": 4,
      "outputs": [
        {
          "output_type": "execute_result",
          "data": {
            "application/vnd.google.colaboratory.intrinsic+json": {
              "type": "string"
            },
            "text/plain": [
              "'#### Theo em cả 2 cách toán tử và append đều giống nhau, đều thêm biến 16:30 vào cuối danh sách và in ra 1 danh sách mới. Nhưng cách toán tử phải cộng theo thứ tự, nếu biến mới cộng danh sách thì khi in ra biến mới sẽ nằm ở đầu danh sách và ngược lại'"
            ]
          },
          "metadata": {},
          "execution_count": 4
        }
      ]
    },
    {
      "cell_type": "markdown",
      "metadata": {
        "id": "JAdtRJIWP3xU"
      },
      "source": [
        "Bài 4"
      ]
    },
    {
      "cell_type": "code",
      "metadata": {
        "id": "GpHgudEQP0LU",
        "colab": {
          "base_uri": "https://localhost:8080/"
        },
        "outputId": "83172d8a-47e5-4b9a-bd6a-a70c20799907"
      },
      "source": [
        "IDs = [4353,2314,2956,3382,9362,3900]\n",
        "IDs.remove(3382)\n",
        "print(IDs)"
      ],
      "execution_count": 7,
      "outputs": [
        {
          "output_type": "stream",
          "name": "stdout",
          "text": [
            "[4353, 2314, 2956, 9362, 3900]\n"
          ]
        }
      ]
    },
    {
      "cell_type": "code",
      "metadata": {
        "id": "0X-rL_dHQ3XE",
        "colab": {
          "base_uri": "https://localhost:8080/"
        },
        "outputId": "c38bab0e-0ff2-4c73-f3b7-7f4d849a718d"
      },
      "source": [
        "IDs = [4353, 2314, 2956, 9362, 3900]\n",
        "IDs.index(9362)"
      ],
      "execution_count": 8,
      "outputs": [
        {
          "output_type": "execute_result",
          "data": {
            "text/plain": [
              "3"
            ]
          },
          "metadata": {},
          "execution_count": 8
        }
      ]
    },
    {
      "cell_type": "code",
      "metadata": {
        "id": "XlN6X9IBUftL",
        "colab": {
          "base_uri": "https://localhost:8080/"
        },
        "outputId": "dd9279aa-418f-4a7a-df7d-15e16f32e156"
      },
      "source": [
        "IDs = [4353, 2314, 2956, 9362, 3900]\n",
        "IDs.insert(4,4499)\n",
        "print(IDs)"
      ],
      "execution_count": 9,
      "outputs": [
        {
          "output_type": "stream",
          "name": "stdout",
          "text": [
            "[4353, 2314, 2956, 9362, 4499, 3900]\n"
          ]
        }
      ]
    },
    {
      "cell_type": "code",
      "metadata": {
        "id": "rPb8Hh64XnIB",
        "colab": {
          "base_uri": "https://localhost:8080/"
        },
        "outputId": "ea1414f4-dcc6-4f34-860b-6a55e08313c4"
      },
      "source": [
        "IDs = [4353, 2314, 2956, 9362, 4499, 3900]\n",
        "IDs.extend([5566,1830])\n",
        "print(IDs)"
      ],
      "execution_count": 10,
      "outputs": [
        {
          "output_type": "stream",
          "name": "stdout",
          "text": [
            "[4353, 2314, 2956, 9362, 4499, 3900, 5566, 1830]\n"
          ]
        }
      ]
    },
    {
      "cell_type": "code",
      "metadata": {
        "id": "TydrCBmtX2BR",
        "colab": {
          "base_uri": "https://localhost:8080/"
        },
        "outputId": "d2331b81-7802-4728-e4fe-a860d3123261"
      },
      "source": [
        "IDs = [4353, 2314, 2956, 9362, 4499, 3900, 5566, 1830]\n",
        "IDs.reverse()\n",
        "print(IDs)"
      ],
      "execution_count": 11,
      "outputs": [
        {
          "output_type": "stream",
          "name": "stdout",
          "text": [
            "[1830, 5566, 3900, 4499, 9362, 2956, 2314, 4353]\n"
          ]
        }
      ]
    },
    {
      "cell_type": "code",
      "metadata": {
        "id": "WIUXzAr5YIp3",
        "colab": {
          "base_uri": "https://localhost:8080/"
        },
        "outputId": "845fc5ee-152d-49bc-f54e-66c4bc255776"
      },
      "source": [
        "IDs = [4353, 2314, 2956, 9362, 4499, 3900, 5566, 1830]\n",
        "IDs.sort()\n",
        "print(IDs)"
      ],
      "execution_count": 12,
      "outputs": [
        {
          "output_type": "stream",
          "name": "stdout",
          "text": [
            "[1830, 2314, 2956, 3900, 4353, 4499, 5566, 9362]\n"
          ]
        }
      ]
    },
    {
      "cell_type": "markdown",
      "metadata": {
        "id": "Ca8RGIHkYe_f"
      },
      "source": [
        "Bài 5"
      ]
    },
    {
      "cell_type": "code",
      "metadata": {
        "id": "sRPFESYsYh_-",
        "outputId": "b0a857cc-24de-4b04-c30d-9563eec3b31a",
        "colab": {
          "base_uri": "https://localhost:8080/"
        }
      },
      "source": [
        "Kim_loai_kiem_tho = ['berili(4)','magie(12)','canxi(20)','stronti(38)','barium(56)','radium(88)']\n",
        "print(Kim_loai_kiem_tho)"
      ],
      "execution_count": 48,
      "outputs": [
        {
          "output_type": "stream",
          "name": "stdout",
          "text": [
            "['berili(4)', 'magie(12)', 'canxi(20)', 'stronti(38)', 'barium(56)', 'radium(88)']\n"
          ]
        }
      ]
    },
    {
      "cell_type": "code",
      "metadata": {
        "id": "uoEcZFZZ-LCt",
        "outputId": "d5a387f4-92fa-4b51-ce07-ad5849f2eaaa",
        "colab": {
          "base_uri": "https://localhost:8080/",
          "height": 35
        }
      },
      "source": [
        "Kim_loai_kiem_tho[5]"
      ],
      "execution_count": 49,
      "outputs": [
        {
          "output_type": "execute_result",
          "data": {
            "application/vnd.google.colaboratory.intrinsic+json": {
              "type": "string"
            },
            "text/plain": [
              "'radium(88)'"
            ]
          },
          "metadata": {},
          "execution_count": 49
        }
      ]
    },
    {
      "cell_type": "code",
      "metadata": {
        "id": "WkIkRPCc-0Ue",
        "outputId": "db9bb172-5565-44e2-8605-e4d3ad4a843f",
        "colab": {
          "base_uri": "https://localhost:8080/",
          "height": 35
        }
      },
      "source": [
        "Kim_loai_kiem_tho[-1]"
      ],
      "execution_count": 50,
      "outputs": [
        {
          "output_type": "execute_result",
          "data": {
            "application/vnd.google.colaboratory.intrinsic+json": {
              "type": "string"
            },
            "text/plain": [
              "'radium(88)'"
            ]
          },
          "metadata": {},
          "execution_count": 50
        }
      ]
    },
    {
      "cell_type": "code",
      "metadata": {
        "id": "paygu-iD_w7U",
        "outputId": "67e377fa-8bce-4ac4-d0b4-019a1bbe749d",
        "colab": {
          "base_uri": "https://localhost:8080/"
        }
      },
      "source": [
        "len(Kim_loai_kiem_tho)"
      ],
      "execution_count": 51,
      "outputs": [
        {
          "output_type": "execute_result",
          "data": {
            "text/plain": [
              "6"
            ]
          },
          "metadata": {},
          "execution_count": 51
        }
      ]
    },
    {
      "cell_type": "code",
      "metadata": {
        "id": "cX0DrigbAEfd"
      },
      "source": [
        "Kim_loai_kiem_tho = ['berili(4)','magie(12)','canxi(20)','stronti(38)','barium(56)','radium(88)']\n",
        "def max(Kim_loai_kiem_tho):\n",
        "  return max"
      ],
      "execution_count": 52,
      "outputs": []
    }
  ]
}