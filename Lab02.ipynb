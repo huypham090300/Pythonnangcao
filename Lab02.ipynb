{
  "nbformat": 4,
  "nbformat_minor": 0,
  "metadata": {
    "colab": {
      "name": "Untitled0.ipynb",
      "provenance": [],
      "authorship_tag": "ABX9TyMasHnqIYYoiN5PLVv0j72s",
      "include_colab_link": true
    },
    "kernelspec": {
      "name": "python3",
      "display_name": "Python 3"
    },
    "language_info": {
      "name": "python"
    }
  },
  "cells": [
    {
      "cell_type": "markdown",
      "metadata": {
        "id": "view-in-github",
        "colab_type": "text"
      },
      "source": [
        "<a href=\"https://colab.research.google.com/github/huypham090300/Pythonnangcao/blob/main/Lab02.ipynb\" target=\"_parent\"><img src=\"https://colab.research.google.com/assets/colab-badge.svg\" alt=\"Open In Colab\"/></a>"
      ]
    },
    {
      "cell_type": "markdown",
      "metadata": {
        "id": "DP5o-kcmTteh"
      },
      "source": [
        "Chương 8"
      ]
    },
    {
      "cell_type": "markdown",
      "metadata": {
        "id": "MjQZuxrGVvFA"
      },
      "source": [
        "Bài 1"
      ]
    },
    {
      "cell_type": "code",
      "metadata": {
        "id": "33VqGVmuTptL",
        "colab": {
          "base_uri": "https://localhost:8080/"
        },
        "outputId": "ffd49166-6fd3-4243-8b92-f9a2fca83681"
      },
      "source": [
        "kingdoms =['Bacteria','Protozoa','Chromista','Plantae','Fungi','Animalia']\n",
        "print(kingdoms [0])"
      ],
      "execution_count": null,
      "outputs": [
        {
          "output_type": "stream",
          "name": "stdout",
          "text": [
            "Bacteria\n"
          ]
        }
      ]
    },
    {
      "cell_type": "code",
      "metadata": {
        "id": "mn04fiGJWtss",
        "colab": {
          "base_uri": "https://localhost:8080/"
        },
        "outputId": "c2eca00e-ba84-4e2d-c86d-8f340f7e52a3"
      },
      "source": [
        "print(kingdoms[5])"
      ],
      "execution_count": null,
      "outputs": [
        {
          "output_type": "stream",
          "name": "stdout",
          "text": [
            "Animalia\n"
          ]
        }
      ]
    },
    {
      "cell_type": "code",
      "metadata": {
        "id": "L2j07SbJW4fP",
        "colab": {
          "base_uri": "https://localhost:8080/"
        },
        "outputId": "2b214460-c8cf-4d46-866d-ec174bd82719"
      },
      "source": [
        "print(kingdoms[:3])"
      ],
      "execution_count": null,
      "outputs": [
        {
          "output_type": "stream",
          "name": "stdout",
          "text": [
            "['Bacteria', 'Protozoa', 'Chromista']\n"
          ]
        }
      ]
    },
    {
      "cell_type": "code",
      "metadata": {
        "id": "vqbhSpMzX1ca",
        "colab": {
          "base_uri": "https://localhost:8080/"
        },
        "outputId": "24e08a63-85f1-4398-fd91-f2c64219363c"
      },
      "source": [
        "print(kingdoms[2:5])"
      ],
      "execution_count": null,
      "outputs": [
        {
          "output_type": "stream",
          "name": "stdout",
          "text": [
            "['Chromista', 'Plantae', 'Fungi']\n"
          ]
        }
      ]
    },
    {
      "cell_type": "code",
      "metadata": {
        "id": "lZpNs9SfaJyj",
        "colab": {
          "base_uri": "https://localhost:8080/"
        },
        "outputId": "f2eab374-4225-4681-8eb6-8880a142c60d"
      },
      "source": [
        "print(kingdoms[4:])"
      ],
      "execution_count": null,
      "outputs": [
        {
          "output_type": "stream",
          "name": "stdout",
          "text": [
            "['Fungi', 'Animalia']\n"
          ]
        }
      ]
    },
    {
      "cell_type": "code",
      "metadata": {
        "id": "f432wN9BaixV",
        "colab": {
          "base_uri": "https://localhost:8080/"
        },
        "outputId": "85989e7c-bf99-4057-c79f-355a42b27d0c"
      },
      "source": [
        "kingdoms =[]\n",
        "print(kingdoms)"
      ],
      "execution_count": null,
      "outputs": [
        {
          "output_type": "stream",
          "name": "stdout",
          "text": [
            "[]\n"
          ]
        }
      ]
    },
    {
      "cell_type": "markdown",
      "metadata": {
        "id": "vulSxJNeb50Y"
      },
      "source": [
        "Bài 2"
      ]
    },
    {
      "cell_type": "code",
      "metadata": {
        "id": "8soxvrcwbj1N",
        "colab": {
          "base_uri": "https://localhost:8080/"
        },
        "outputId": "e3b43ab4-730d-43b2-a9e1-5029bf641565"
      },
      "source": [
        "kingdoms =['Bacteria','Protozoa','Chromista','Plantae','Fungi','Animalia']\n",
        "print(kingdoms[-6])"
      ],
      "execution_count": null,
      "outputs": [
        {
          "output_type": "stream",
          "name": "stdout",
          "text": [
            "Bacteria\n"
          ]
        }
      ]
    },
    {
      "cell_type": "code",
      "metadata": {
        "id": "zYTm61GSdXFj",
        "colab": {
          "base_uri": "https://localhost:8080/"
        },
        "outputId": "4ea371db-4967-4608-8882-93e86e378ece"
      },
      "source": [
        "print(kingdoms[-1])"
      ],
      "execution_count": null,
      "outputs": [
        {
          "output_type": "stream",
          "name": "stdout",
          "text": [
            "Animalia\n"
          ]
        }
      ]
    },
    {
      "cell_type": "code",
      "metadata": {
        "id": "EVLW5at-eYML",
        "colab": {
          "base_uri": "https://localhost:8080/"
        },
        "outputId": "e336a534-e854-44bf-f9ca-fe05fe9243cb"
      },
      "source": [
        "print(kingdoms[-6:-3])"
      ],
      "execution_count": null,
      "outputs": [
        {
          "output_type": "stream",
          "name": "stdout",
          "text": [
            "['Bacteria', 'Protozoa', 'Chromista']\n"
          ]
        }
      ]
    },
    {
      "cell_type": "code",
      "metadata": {
        "id": "GIR604txeekp",
        "colab": {
          "base_uri": "https://localhost:8080/"
        },
        "outputId": "e19278d9-1a08-46fc-8225-edae00d7168e"
      },
      "source": [
        "print(kingdoms[-4:-1])"
      ],
      "execution_count": null,
      "outputs": [
        {
          "output_type": "stream",
          "name": "stdout",
          "text": [
            "['Chromista', 'Plantae', 'Fungi']\n"
          ]
        }
      ]
    },
    {
      "cell_type": "code",
      "metadata": {
        "id": "-j-b5webe-B3",
        "colab": {
          "base_uri": "https://localhost:8080/"
        },
        "outputId": "f7d5b6e4-1607-4ddb-d670-3e26c4e55c41"
      },
      "source": [
        "print(kingdoms[-2:])"
      ],
      "execution_count": null,
      "outputs": [
        {
          "output_type": "stream",
          "name": "stdout",
          "text": [
            "['Fungi', 'Animalia']\n"
          ]
        }
      ]
    },
    {
      "cell_type": "code",
      "metadata": {
        "id": "PnH6KD7DgoNE",
        "colab": {
          "base_uri": "https://localhost:8080/"
        },
        "outputId": "30478e86-6e57-449b-8871-ff1785e47676"
      },
      "source": [
        "print(kingdoms[-1:-2])"
      ],
      "execution_count": null,
      "outputs": [
        {
          "output_type": "stream",
          "name": "stdout",
          "text": [
            "[]\n"
          ]
        }
      ]
    },
    {
      "cell_type": "markdown",
      "metadata": {
        "id": "YFUQ_gEvhTX5"
      },
      "source": [
        "Bài 3"
      ]
    },
    {
      "cell_type": "code",
      "metadata": {
        "id": "IuYaECzjhVCh",
        "colab": {
          "base_uri": "https://localhost:8080/"
        },
        "outputId": "d531c824-3a66-43b9-b64e-ab507b051f7f"
      },
      "source": [
        "appointment = ['9:00','10:30','14:00','15:00','15:30']\n",
        "appointment.append('16:30')\n",
        "print(appointment)"
      ],
      "execution_count": null,
      "outputs": [
        {
          "output_type": "stream",
          "name": "stdout",
          "text": [
            "['9:00', '10:30', '14:00', '15:00', '15:30', '16:30']\n"
          ]
        }
      ]
    },
    {
      "cell_type": "code",
      "metadata": {
        "id": "rWQxg0eBO1Lw",
        "colab": {
          "base_uri": "https://localhost:8080/"
        },
        "outputId": "faca2ddf-b7a4-42eb-87d2-21e30d694f60"
      },
      "source": [
        "appointment = ['9:00','10:30','14:00','15:00','15:30']\n",
        "new = ['16:30']\n",
        "appointment1 = appointment + new\n",
        "print (appointment1)"
      ],
      "execution_count": null,
      "outputs": [
        {
          "output_type": "stream",
          "name": "stdout",
          "text": [
            "['9:00', '10:30', '14:00', '15:00', '15:30', '16:30']\n"
          ]
        }
      ]
    },
    {
      "cell_type": "code",
      "metadata": {
        "id": "vytGn-_6PFaW",
        "colab": {
          "base_uri": "https://localhost:8080/",
          "height": 52
        },
        "outputId": "f7758a5f-556d-4c12-c306-62744126869e"
      },
      "source": [
        "'#### Theo em cả 2 cách toán tử và append đều giống nhau, đều thêm biến 16:30 vào cuối danh sách và in ra 1 danh sách mới. Nhưng cách toán tử phải cộng theo thứ tự, nếu biến mới cộng danh sách thì khi in ra biến mới sẽ nằm ở đầu danh sách và ngược lại'"
      ],
      "execution_count": null,
      "outputs": [
        {
          "output_type": "execute_result",
          "data": {
            "application/vnd.google.colaboratory.intrinsic+json": {
              "type": "string"
            },
            "text/plain": [
              "'#### Theo em cả 2 cách toán tử và append đều giống nhau, đều thêm biến 16:30 vào cuối danh sách và in ra 1 danh sách mới. Nhưng cách toán tử phải cộng theo thứ tự, nếu biến mới cộng danh sách thì khi in ra biến mới sẽ nằm ở đầu danh sách và ngược lại'"
            ]
          },
          "metadata": {},
          "execution_count": 4
        }
      ]
    },
    {
      "cell_type": "markdown",
      "metadata": {
        "id": "JAdtRJIWP3xU"
      },
      "source": [
        "Bài 4"
      ]
    },
    {
      "cell_type": "code",
      "metadata": {
        "id": "GpHgudEQP0LU",
        "colab": {
          "base_uri": "https://localhost:8080/"
        },
        "outputId": "87bdbc7b-09b9-45d3-ee68-6762336f9936"
      },
      "source": [
        "IDs = [4353,2314,2956,3382,9362,3900]\n",
        "IDs.remove(3382)\n",
        "print(IDs)"
      ],
      "execution_count": null,
      "outputs": [
        {
          "output_type": "stream",
          "name": "stdout",
          "text": [
            "[4353, 2314, 2956, 9362, 3900]\n"
          ]
        }
      ]
    },
    {
      "cell_type": "code",
      "metadata": {
        "id": "0X-rL_dHQ3XE",
        "colab": {
          "base_uri": "https://localhost:8080/"
        },
        "outputId": "7ebf0439-03ad-484a-c19d-887152b70b22"
      },
      "source": [
        "IDs.index(9362)"
      ],
      "execution_count": null,
      "outputs": [
        {
          "output_type": "execute_result",
          "data": {
            "text/plain": [
              "3"
            ]
          },
          "metadata": {},
          "execution_count": 23
        }
      ]
    },
    {
      "cell_type": "code",
      "metadata": {
        "id": "U7UT4a6A6xYy",
        "colab": {
          "base_uri": "https://localhost:8080/"
        },
        "outputId": "85de0733-1e43-4e8c-e3a8-1b451f6b9b51"
      },
      "source": [
        "IDs = [4353, 2314, 2956, 9362, 3900]\n",
        "IDs.insert(4,4499)\n",
        "print(IDs)"
      ],
      "execution_count": null,
      "outputs": [
        {
          "output_type": "stream",
          "name": "stdout",
          "text": [
            "[4353, 2314, 2956, 9362, 4499, 3900]\n"
          ]
        }
      ]
    },
    {
      "cell_type": "code",
      "metadata": {
        "id": "rPb8Hh64XnIB",
        "colab": {
          "base_uri": "https://localhost:8080/"
        },
        "outputId": "5f5075c1-8695-43be-cacc-b36d88f36263"
      },
      "source": [
        "IDs = [4353, 2314, 2956, 9362, 4499, 3900]\n",
        "IDs.extend([5566,1830])\n",
        "print(IDs)"
      ],
      "execution_count": null,
      "outputs": [
        {
          "output_type": "stream",
          "name": "stdout",
          "text": [
            "[4353, 2314, 2956, 9362, 4499, 3900, 5566, 1830]\n"
          ]
        }
      ]
    },
    {
      "cell_type": "code",
      "metadata": {
        "id": "TydrCBmtX2BR",
        "colab": {
          "base_uri": "https://localhost:8080/"
        },
        "outputId": "2296f685-28ff-4651-88dc-ea944bc05e08"
      },
      "source": [
        "IDs = [4353, 2314, 2956, 9362, 4499, 3900, 5566, 1830]\n",
        "IDs.reverse()\n",
        "print(IDs)"
      ],
      "execution_count": null,
      "outputs": [
        {
          "output_type": "stream",
          "name": "stdout",
          "text": [
            "[1830, 5566, 3900, 4499, 9362, 2956, 2314, 4353]\n"
          ]
        }
      ]
    },
    {
      "cell_type": "code",
      "metadata": {
        "id": "WIUXzAr5YIp3",
        "colab": {
          "base_uri": "https://localhost:8080/"
        },
        "outputId": "ba50afd4-b7ff-4d96-bb60-80f2b85995ea"
      },
      "source": [
        "IDs = [4353, 2314, 2956, 9362, 4499, 3900, 5566, 1830]\n",
        "IDs.sort()\n",
        "print(IDs)"
      ],
      "execution_count": null,
      "outputs": [
        {
          "output_type": "stream",
          "name": "stdout",
          "text": [
            "[1830, 2314, 2956, 3900, 4353, 4499, 5566, 9362]\n"
          ]
        }
      ]
    },
    {
      "cell_type": "markdown",
      "metadata": {
        "id": "Ca8RGIHkYe_f"
      },
      "source": [
        "Bài 5"
      ]
    },
    {
      "cell_type": "code",
      "metadata": {
        "id": "sRPFESYsYh_-",
        "colab": {
          "base_uri": "https://localhost:8080/"
        },
        "outputId": "a63e4325-a55a-47c6-a874-47f2fa39701b"
      },
      "source": [
        "Kim_loai_kiem_tho = ['berili(4)','magie(12)','canxi(20)','stronti(38)','barium(56)','radium(88)']\n",
        "print(Kim_loai_kiem_tho)"
      ],
      "execution_count": null,
      "outputs": [
        {
          "output_type": "stream",
          "name": "stdout",
          "text": [
            "['berili(4)', 'magie(12)', 'canxi(20)', 'stronti(38)', 'barium(56)', 'radium(88)']\n"
          ]
        }
      ]
    },
    {
      "cell_type": "code",
      "metadata": {
        "id": "uoEcZFZZ-LCt",
        "colab": {
          "base_uri": "https://localhost:8080/",
          "height": 35
        },
        "outputId": "3560ca97-9a4f-4d22-8862-9241439e33f9"
      },
      "source": [
        "Kim_loai_kiem_tho[5]"
      ],
      "execution_count": null,
      "outputs": [
        {
          "output_type": "execute_result",
          "data": {
            "application/vnd.google.colaboratory.intrinsic+json": {
              "type": "string"
            },
            "text/plain": [
              "'radium(88)'"
            ]
          },
          "metadata": {},
          "execution_count": 9
        }
      ]
    },
    {
      "cell_type": "code",
      "metadata": {
        "id": "WkIkRPCc-0Ue",
        "colab": {
          "base_uri": "https://localhost:8080/",
          "height": 35
        },
        "outputId": "1309dfae-63a1-4c74-9d76-0eea6b3b8408"
      },
      "source": [
        "Kim_loai_kiem_tho[-1]"
      ],
      "execution_count": null,
      "outputs": [
        {
          "output_type": "execute_result",
          "data": {
            "application/vnd.google.colaboratory.intrinsic+json": {
              "type": "string"
            },
            "text/plain": [
              "'radium(88)'"
            ]
          },
          "metadata": {},
          "execution_count": 10
        }
      ]
    },
    {
      "cell_type": "code",
      "metadata": {
        "id": "paygu-iD_w7U",
        "colab": {
          "base_uri": "https://localhost:8080/"
        },
        "outputId": "98df713b-7623-4843-d80b-3908d9801911"
      },
      "source": [
        "len(Kim_loai_kiem_tho)"
      ],
      "execution_count": null,
      "outputs": [
        {
          "output_type": "execute_result",
          "data": {
            "text/plain": [
              "6"
            ]
          },
          "metadata": {},
          "execution_count": 11
        }
      ]
    },
    {
      "cell_type": "code",
      "metadata": {
        "id": "bBceCa7EvaYp",
        "colab": {
          "base_uri": "https://localhost:8080/"
        },
        "outputId": "01d4064f-250c-4cbe-c48a-88f08606378d"
      },
      "source": [
        "import re\n",
        "Kim_loai_kiem_tho = ['berili(4)','magie(12)','canxi(20)','stronti(38)','barium(56)','radium(88)']\n",
        "max = 0\n",
        "pos =0\n",
        "count=0\n",
        "for i in Kim_loai_kiem_tho:\n",
        "  m = re.search(r'\\d+',i)\n",
        "  nt = int(m.group())\n",
        "  if nt > max:\n",
        "    max = nt\n",
        "    pos = count\n",
        "  count +=1\n",
        "print(Kim_loai_kiem_tho[pos])"
      ],
      "execution_count": null,
      "outputs": [
        {
          "output_type": "stream",
          "name": "stdout",
          "text": [
            "radium(88)\n"
          ]
        }
      ]
    },
    {
      "cell_type": "markdown",
      "metadata": {
        "id": "msY3kdIHveF5"
      },
      "source": [
        "Bài 6"
      ]
    },
    {
      "cell_type": "code",
      "metadata": {
        "id": "RFfDx-zYvcvA",
        "colab": {
          "base_uri": "https://localhost:8080/"
        },
        "outputId": "16e4fd5a-dbac-4c80-8d25-6891e7c37230"
      },
      "source": [
        "temps = [25.2,16.8,31.4,23.9,28,22.5,19.6]\n",
        "print(temps)"
      ],
      "execution_count": null,
      "outputs": [
        {
          "output_type": "stream",
          "name": "stdout",
          "text": [
            "[25.2, 16.8, 31.4, 23.9, 28, 22.5, 19.6]\n"
          ]
        }
      ]
    },
    {
      "cell_type": "code",
      "metadata": {
        "id": "PGPkGEBIv7Up",
        "colab": {
          "base_uri": "https://localhost:8080/"
        },
        "outputId": "f390162c-bf1c-4eb7-b1c9-becf735bdb83"
      },
      "source": [
        "temps.sort()\n",
        "print(temps)"
      ],
      "execution_count": null,
      "outputs": [
        {
          "output_type": "stream",
          "name": "stdout",
          "text": [
            "[16.8, 19.6, 22.5, 23.9, 25.2, 28, 31.4]\n"
          ]
        }
      ]
    },
    {
      "cell_type": "code",
      "metadata": {
        "id": "4bMTHVvc2R2q",
        "colab": {
          "base_uri": "https://localhost:8080/"
        },
        "outputId": "31b19322-d72b-4178-c0cd-f3f15767d8bd"
      },
      "source": [
        "cool_temps = temps[0:2]\n",
        "warm_temps = temps[2:]\n",
        "print(cool_temps)\n",
        "print(warm_temps)"
      ],
      "execution_count": null,
      "outputs": [
        {
          "output_type": "stream",
          "name": "stdout",
          "text": [
            "[16.8, 19.6]\n",
            "[22.5, 23.9, 25.2, 28, 31.4]\n"
          ]
        }
      ]
    },
    {
      "cell_type": "code",
      "metadata": {
        "id": "CL_sHGtV8DLd",
        "colab": {
          "base_uri": "https://localhost:8080/"
        },
        "outputId": "80e6adb6-9239-49da-b285-4678638b9b86"
      },
      "source": [
        "temps_in_c = warm_temps + cool_temps\n",
        "print(temps_in_c)"
      ],
      "execution_count": null,
      "outputs": [
        {
          "output_type": "stream",
          "name": "stdout",
          "text": [
            "[22.5, 23.9, 25.2, 28, 31.4, 16.8, 19.6]\n"
          ]
        }
      ]
    },
    {
      "cell_type": "markdown",
      "metadata": {
        "id": "wi0yC8AfAyXs"
      },
      "source": [
        "Bài 7"
      ]
    },
    {
      "cell_type": "code",
      "metadata": {
        "id": "mKqmw4vfUUBn",
        "colab": {
          "base_uri": "https://localhost:8080/"
        },
        "outputId": "1a55d24f-74f5-4a00-abee-438c6095ba24"
      },
      "source": [
        "def same_first_last(L)-> bool:\n",
        "  if(len(L) > 2):\n",
        "    return L[0] == L[-1]\n",
        "same_first_last([3, 4, 2, 8, 3])"
      ],
      "execution_count": null,
      "outputs": [
        {
          "output_type": "execute_result",
          "data": {
            "text/plain": [
              "True"
            ]
          },
          "metadata": {},
          "execution_count": 74
        }
      ]
    },
    {
      "cell_type": "code",
      "metadata": {
        "id": "k0azTEArU1K0",
        "colab": {
          "base_uri": "https://localhost:8080/"
        },
        "outputId": "538653ad-efd0-4479-f4f3-293175b09d73"
      },
      "source": [
        "same_first_last(['apple', 'banana', 'pear'])"
      ],
      "execution_count": null,
      "outputs": [
        {
          "output_type": "execute_result",
          "data": {
            "text/plain": [
              "False"
            ]
          },
          "metadata": {},
          "execution_count": 75
        }
      ]
    },
    {
      "cell_type": "code",
      "metadata": {
        "id": "5Q3B5gzeU5zk",
        "colab": {
          "base_uri": "https://localhost:8080/"
        },
        "outputId": "95415533-f7e2-42c6-cc6f-4b1c5b6b38d4"
      },
      "source": [
        "same_first_last([4.0, 4.5])"
      ],
      "execution_count": null,
      "outputs": [
        {
          "output_type": "execute_result",
          "data": {
            "text/plain": [
              "False"
            ]
          },
          "metadata": {},
          "execution_count": 76
        }
      ]
    },
    {
      "cell_type": "markdown",
      "metadata": {
        "id": "S9TwJL5ZVbx5"
      },
      "source": [
        "Bài 8"
      ]
    },
    {
      "cell_type": "code",
      "metadata": {
        "id": "VFTT4PLXU8Yv",
        "colab": {
          "base_uri": "https://localhost:8080/"
        },
        "outputId": "e9842cf0-b899-4964-f66b-20d1598d9e54"
      },
      "source": [
        "def is_longer(L1,L2) -> bool:\n",
        "  return len(L1) > len(L2)\n",
        "is_longer([1,2,3],[4,5])"
      ],
      "execution_count": null,
      "outputs": [
        {
          "output_type": "execute_result",
          "data": {
            "text/plain": [
              "True"
            ]
          },
          "metadata": {},
          "execution_count": 81
        }
      ]
    },
    {
      "cell_type": "code",
      "metadata": {
        "id": "O2YqzFvMW-lb",
        "colab": {
          "base_uri": "https://localhost:8080/"
        },
        "outputId": "ea63ffd0-dec9-4027-c23b-b960b28728b2"
      },
      "source": [
        "is_longer(['abcdef'], ['ab', 'cd', 'ef'])"
      ],
      "execution_count": null,
      "outputs": [
        {
          "output_type": "execute_result",
          "data": {
            "text/plain": [
              "False"
            ]
          },
          "metadata": {},
          "execution_count": 82
        }
      ]
    },
    {
      "cell_type": "code",
      "metadata": {
        "id": "VOI8UyLEXDKx",
        "colab": {
          "base_uri": "https://localhost:8080/"
        },
        "outputId": "e452d424-48b8-46ed-b3ac-bc3b9ab521b5"
      },
      "source": [
        "is_longer(['a', 'b', 'c'], [1, 2, 3])"
      ],
      "execution_count": null,
      "outputs": [
        {
          "output_type": "execute_result",
          "data": {
            "text/plain": [
              "False"
            ]
          },
          "metadata": {},
          "execution_count": 83
        }
      ]
    },
    {
      "cell_type": "markdown",
      "metadata": {
        "id": "AP-7G6pWYyHa"
      },
      "source": [
        "Bài 10"
      ]
    },
    {
      "cell_type": "code",
      "metadata": {
        "id": "pi_519iBYzSX",
        "colab": {
          "base_uri": "https://localhost:8080/"
        },
        "outputId": "d8a1a8e6-6a9d-405c-8674-db4cdf4d71c8"
      },
      "source": [
        "units = [['km','miles','league'],['kg','pound','stones']]\n",
        "units[0]"
      ],
      "execution_count": null,
      "outputs": [
        {
          "output_type": "execute_result",
          "data": {
            "text/plain": [
              "['km', 'miles', 'league']"
            ]
          },
          "metadata": {},
          "execution_count": 88
        }
      ]
    },
    {
      "cell_type": "code",
      "metadata": {
        "id": "7nmQ095Fbf-k",
        "colab": {
          "base_uri": "https://localhost:8080/"
        },
        "outputId": "9aa1aa5c-20e2-4c67-b886-bc19873a1033"
      },
      "source": [
        "units[1]"
      ],
      "execution_count": null,
      "outputs": [
        {
          "output_type": "execute_result",
          "data": {
            "text/plain": [
              "['kg', 'pound', 'stones']"
            ]
          },
          "metadata": {},
          "execution_count": 89
        }
      ]
    },
    {
      "cell_type": "code",
      "metadata": {
        "id": "KdrDYYsJb-H-",
        "colab": {
          "base_uri": "https://localhost:8080/",
          "height": 35
        },
        "outputId": "e60a6638-cc5a-4bb0-a1f7-f95cc61bc286"
      },
      "source": [
        "units[0][0]"
      ],
      "execution_count": null,
      "outputs": [
        {
          "output_type": "execute_result",
          "data": {
            "application/vnd.google.colaboratory.intrinsic+json": {
              "type": "string"
            },
            "text/plain": [
              "'km'"
            ]
          },
          "metadata": {},
          "execution_count": 91
        }
      ]
    },
    {
      "cell_type": "code",
      "metadata": {
        "id": "-gJhF5dMcctW",
        "colab": {
          "base_uri": "https://localhost:8080/",
          "height": 35
        },
        "outputId": "45c675df-b071-4e6c-8e2b-7ec33637d2c1"
      },
      "source": [
        "units[1][0]"
      ],
      "execution_count": null,
      "outputs": [
        {
          "output_type": "execute_result",
          "data": {
            "application/vnd.google.colaboratory.intrinsic+json": {
              "type": "string"
            },
            "text/plain": [
              "'kg'"
            ]
          },
          "metadata": {},
          "execution_count": 93
        }
      ]
    },
    {
      "cell_type": "code",
      "metadata": {
        "id": "FIEhD-Jaceqs",
        "colab": {
          "base_uri": "https://localhost:8080/"
        },
        "outputId": "dedc4537-d7e8-4635-ec64-af48dad18bda"
      },
      "source": [
        "units[0][1:]"
      ],
      "execution_count": null,
      "outputs": [
        {
          "output_type": "execute_result",
          "data": {
            "text/plain": [
              "['miles', 'league']"
            ]
          },
          "metadata": {},
          "execution_count": 98
        }
      ]
    },
    {
      "cell_type": "code",
      "metadata": {
        "id": "XDfCgoACdEIe",
        "colab": {
          "base_uri": "https://localhost:8080/"
        },
        "outputId": "3080c35b-8364-4a0f-89d7-9d61ea4e3f01"
      },
      "source": [
        "units[1][0:2]"
      ],
      "execution_count": null,
      "outputs": [
        {
          "output_type": "execute_result",
          "data": {
            "text/plain": [
              "['kg', 'pound']"
            ]
          },
          "metadata": {},
          "execution_count": 102
        }
      ]
    },
    {
      "cell_type": "markdown",
      "metadata": {
        "id": "lQnygnMwdTbk"
      },
      "source": [
        "Bài 11"
      ]
    },
    {
      "cell_type": "code",
      "metadata": {
        "id": "Xx2Z6eAkdr1q",
        "colab": {
          "base_uri": "https://localhost:8080/"
        },
        "outputId": "f0cb5468-cad4-4ef8-bcc7-c7129141586d"
      },
      "source": [
        "units = [['km','miles','league'],['kg','pound','stones']]\n",
        "units[-2]"
      ],
      "execution_count": null,
      "outputs": [
        {
          "output_type": "execute_result",
          "data": {
            "text/plain": [
              "['km', 'miles', 'league']"
            ]
          },
          "metadata": {},
          "execution_count": 104
        }
      ]
    },
    {
      "cell_type": "code",
      "metadata": {
        "id": "tncn9Jc3eHVf",
        "colab": {
          "base_uri": "https://localhost:8080/"
        },
        "outputId": "f840024f-b419-477c-f562-3b350dc0e5c5"
      },
      "source": [
        "units[-1]"
      ],
      "execution_count": null,
      "outputs": [
        {
          "output_type": "execute_result",
          "data": {
            "text/plain": [
              "['kg', 'pound', 'stones']"
            ]
          },
          "metadata": {},
          "execution_count": 106
        }
      ]
    },
    {
      "cell_type": "code",
      "metadata": {
        "id": "zdKlHvk6eUU_",
        "colab": {
          "base_uri": "https://localhost:8080/",
          "height": 35
        },
        "outputId": "9d75a828-e0c1-4928-fb4c-a2a5e522fe59"
      },
      "source": [
        "units[-2][-3]"
      ],
      "execution_count": null,
      "outputs": [
        {
          "output_type": "execute_result",
          "data": {
            "application/vnd.google.colaboratory.intrinsic+json": {
              "type": "string"
            },
            "text/plain": [
              "'km'"
            ]
          },
          "metadata": {},
          "execution_count": 108
        }
      ]
    },
    {
      "cell_type": "code",
      "metadata": {
        "id": "vWKU2qCIfVRa",
        "colab": {
          "base_uri": "https://localhost:8080/",
          "height": 35
        },
        "outputId": "525a64be-5470-4e28-af22-d85f35688552"
      },
      "source": [
        "units[-1][-3]"
      ],
      "execution_count": null,
      "outputs": [
        {
          "output_type": "execute_result",
          "data": {
            "application/vnd.google.colaboratory.intrinsic+json": {
              "type": "string"
            },
            "text/plain": [
              "'kg'"
            ]
          },
          "metadata": {},
          "execution_count": 110
        }
      ]
    },
    {
      "cell_type": "code",
      "metadata": {
        "id": "NlnQMd91fbjt",
        "colab": {
          "base_uri": "https://localhost:8080/"
        },
        "outputId": "df9a6876-1f3e-49e2-f5ae-193a1b5b8c2a"
      },
      "source": [
        "units[-2][-2:]"
      ],
      "execution_count": null,
      "outputs": [
        {
          "output_type": "execute_result",
          "data": {
            "text/plain": [
              "['miles', 'league']"
            ]
          },
          "metadata": {},
          "execution_count": 116
        }
      ]
    },
    {
      "cell_type": "code",
      "metadata": {
        "id": "lvsm9JPsgGWF",
        "colab": {
          "base_uri": "https://localhost:8080/"
        },
        "outputId": "8d6db24a-7da3-4c37-96a0-acce19837b95"
      },
      "source": [
        "units[-1][-3:-1]"
      ],
      "execution_count": null,
      "outputs": [
        {
          "output_type": "execute_result",
          "data": {
            "text/plain": [
              "['kg', 'pound']"
            ]
          },
          "metadata": {},
          "execution_count": 119
        }
      ]
    },
    {
      "cell_type": "markdown",
      "metadata": {
        "id": "FLouVZ05KhcH"
      },
      "source": [
        "Chương 9"
      ]
    },
    {
      "cell_type": "markdown",
      "metadata": {
        "id": "We9jzzSKKivO"
      },
      "source": [
        "Bài 1"
      ]
    },
    {
      "cell_type": "code",
      "metadata": {
        "id": "hUfvIr95KjzR",
        "colab": {
          "base_uri": "https://localhost:8080/"
        },
        "outputId": "41af2cea-b098-4a22-e67f-2004d424c8a6"
      },
      "source": [
        "celegans_phenotypes = ['Emb','Him', 'Unc', 'Lon', 'Dpy', 'Sma']\n",
        "for i in celegans_phenotypes:\n",
        "  print(i)"
      ],
      "execution_count": null,
      "outputs": [
        {
          "output_type": "stream",
          "name": "stdout",
          "text": [
            "Emb\n",
            "Him\n",
            "Unc\n",
            "Lon\n",
            "Dpy\n",
            "Sma\n"
          ]
        }
      ]
    },
    {
      "cell_type": "markdown",
      "metadata": {
        "id": "-a2zKF9t5QxZ"
      },
      "source": [
        "Bài 2"
      ]
    },
    {
      "cell_type": "code",
      "metadata": {
        "id": "OYu9R_BrRLTq",
        "colab": {
          "base_uri": "https://localhost:8080/"
        },
        "outputId": "4a18b041-e950-4e49-badb-13bd02e78a07"
      },
      "source": [
        "half_live = [87.74, 24110.0, 6537.0, 14.4, 376000.0]\n",
        "for half_live in half_live:\n",
        "  print(str(half_live))"
      ],
      "execution_count": 31,
      "outputs": [
        {
          "output_type": "stream",
          "name": "stdout",
          "text": [
            "87.74\n",
            "24110.0\n",
            "6537.0\n",
            "14.4\n",
            "376000.0\n"
          ]
        }
      ]
    },
    {
      "cell_type": "markdown",
      "metadata": {
        "id": "rhmWBQGc5SHr"
      },
      "source": [
        "Bài 3"
      ]
    },
    {
      "cell_type": "code",
      "metadata": {
        "id": "QodX5Ci6RQBN",
        "colab": {
          "base_uri": "https://localhost:8080/"
        },
        "outputId": "924047ea-a56e-428a-8e63-ba2f9e123c51"
      },
      "source": [
        "whales = [5, 4, 7, 3, 2, 3, 2, 6, 4, 2, 1, 7, 1, 3]\n",
        "more_whales = []\n",
        "for i in whales:\n",
        "  more_whales = i + 1\n",
        "  print(more_whales)"
      ],
      "execution_count": 18,
      "outputs": [
        {
          "output_type": "stream",
          "name": "stdout",
          "text": [
            "6\n",
            "5\n",
            "8\n",
            "4\n",
            "3\n",
            "4\n",
            "3\n",
            "7\n",
            "5\n",
            "3\n",
            "2\n",
            "8\n",
            "2\n",
            "4\n"
          ]
        }
      ]
    },
    {
      "cell_type": "markdown",
      "metadata": {
        "id": "HmfUu1Sm5KWU"
      },
      "source": [
        "Bài 4"
      ]
    },
    {
      "cell_type": "code",
      "metadata": {
        "id": "HVSfJb79VWun"
      },
      "source": [
        "alkaline_earth_metals = [[4,12,20,38,56,88],[9.012,24.305,40.078,87.62,137.327,226]]"
      ],
      "execution_count": 22,
      "outputs": []
    },
    {
      "cell_type": "code",
      "metadata": {
        "id": "knDlGW2fD8ia",
        "outputId": "3bf019c0-4b21-4390-cf80-cb93ee7d6be7",
        "colab": {
          "base_uri": "https://localhost:8080/"
        }
      },
      "source": [
        "for alkaline_earth_metals in alkaline_earth_metals:\n",
        "  print(alkaline_earth_metals)"
      ],
      "execution_count": 32,
      "outputs": [
        {
          "output_type": "stream",
          "name": "stdout",
          "text": [
            "[4, 12, 20, 38, 56, 88]\n",
            "[9.012, 24.305, 40.078, 87.62, 137.327, 226]\n"
          ]
        }
      ]
    },
    {
      "cell_type": "code",
      "metadata": {
        "id": "JNERldl4mZYp",
        "outputId": "ddcd7bdc-dfe8-4408-cd2f-e5c920311e72",
        "colab": {
          "base_uri": "https://localhost:8080/",
          "height": 129
        }
      },
      "source": [
        "import itertools\n",
        "number_and_weight = []\n",
        "def from_iterable(iterable):\n",
        "  for i in itertools.chain.from_iterable(number_and_weight):"
      ],
      "execution_count": 50,
      "outputs": [
        {
          "output_type": "error",
          "ename": "SyntaxError",
          "evalue": "ignored",
          "traceback": [
            "\u001b[0;36m  File \u001b[0;32m\"<ipython-input-50-49ec1ddc469e>\"\u001b[0;36m, line \u001b[0;32m4\u001b[0m\n\u001b[0;31m    for i in itertools.chain.from_iterable(number_and_weight):\u001b[0m\n\u001b[0m                                                              ^\u001b[0m\n\u001b[0;31mSyntaxError\u001b[0m\u001b[0;31m:\u001b[0m unexpected EOF while parsing\n"
          ]
        }
      ]
    },
    {
      "cell_type": "markdown",
      "metadata": {
        "id": "xjm3pWtgeNXP"
      },
      "source": [
        "Bài 5"
      ]
    }
  ]
}