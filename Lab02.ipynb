{
  "nbformat": 4,
  "nbformat_minor": 0,
  "metadata": {
    "colab": {
      "name": "Untitled0.ipynb",
      "provenance": [],
      "authorship_tag": "ABX9TyNqN0n6BmRBq1cmzF16tvU/",
      "include_colab_link": true
    },
    "kernelspec": {
      "name": "python3",
      "display_name": "Python 3"
    },
    "language_info": {
      "name": "python"
    }
  },
  "cells": [
    {
      "cell_type": "markdown",
      "metadata": {
        "id": "view-in-github",
        "colab_type": "text"
      },
      "source": [
        "<a href=\"https://colab.research.google.com/github/huypham090300/Pythonnangcao/blob/main/Lab02.ipynb\" target=\"_parent\"><img src=\"https://colab.research.google.com/assets/colab-badge.svg\" alt=\"Open In Colab\"/></a>"
      ]
    },
    {
      "cell_type": "markdown",
      "metadata": {
        "id": "DP5o-kcmTteh"
      },
      "source": [
        "Chương 8"
      ]
    },
    {
      "cell_type": "markdown",
      "metadata": {
        "id": "MjQZuxrGVvFA"
      },
      "source": [
        "Bài 1"
      ]
    },
    {
      "cell_type": "code",
      "metadata": {
        "id": "33VqGVmuTptL",
        "colab": {
          "base_uri": "https://localhost:8080/"
        },
        "outputId": "ffd49166-6fd3-4243-8b92-f9a2fca83681"
      },
      "source": [
        "kingdoms =['Bacteria','Protozoa','Chromista','Plantae','Fungi','Animalia']\n",
        "print(kingdoms [0])"
      ],
      "execution_count": null,
      "outputs": [
        {
          "output_type": "stream",
          "name": "stdout",
          "text": [
            "Bacteria\n"
          ]
        }
      ]
    },
    {
      "cell_type": "code",
      "metadata": {
        "id": "mn04fiGJWtss",
        "colab": {
          "base_uri": "https://localhost:8080/"
        },
        "outputId": "c2eca00e-ba84-4e2d-c86d-8f340f7e52a3"
      },
      "source": [
        "print(kingdoms[5])"
      ],
      "execution_count": null,
      "outputs": [
        {
          "output_type": "stream",
          "name": "stdout",
          "text": [
            "Animalia\n"
          ]
        }
      ]
    },
    {
      "cell_type": "code",
      "metadata": {
        "id": "L2j07SbJW4fP",
        "colab": {
          "base_uri": "https://localhost:8080/"
        },
        "outputId": "2b214460-c8cf-4d46-866d-ec174bd82719"
      },
      "source": [
        "print(kingdoms[:3])"
      ],
      "execution_count": null,
      "outputs": [
        {
          "output_type": "stream",
          "name": "stdout",
          "text": [
            "['Bacteria', 'Protozoa', 'Chromista']\n"
          ]
        }
      ]
    },
    {
      "cell_type": "code",
      "metadata": {
        "id": "vqbhSpMzX1ca",
        "colab": {
          "base_uri": "https://localhost:8080/"
        },
        "outputId": "24e08a63-85f1-4398-fd91-f2c64219363c"
      },
      "source": [
        "print(kingdoms[2:5])"
      ],
      "execution_count": null,
      "outputs": [
        {
          "output_type": "stream",
          "name": "stdout",
          "text": [
            "['Chromista', 'Plantae', 'Fungi']\n"
          ]
        }
      ]
    },
    {
      "cell_type": "code",
      "metadata": {
        "id": "lZpNs9SfaJyj",
        "colab": {
          "base_uri": "https://localhost:8080/"
        },
        "outputId": "f2eab374-4225-4681-8eb6-8880a142c60d"
      },
      "source": [
        "print(kingdoms[4:])"
      ],
      "execution_count": null,
      "outputs": [
        {
          "output_type": "stream",
          "name": "stdout",
          "text": [
            "['Fungi', 'Animalia']\n"
          ]
        }
      ]
    },
    {
      "cell_type": "code",
      "metadata": {
        "id": "f432wN9BaixV",
        "colab": {
          "base_uri": "https://localhost:8080/"
        },
        "outputId": "85989e7c-bf99-4057-c79f-355a42b27d0c"
      },
      "source": [
        "kingdoms =[]\n",
        "print(kingdoms)"
      ],
      "execution_count": null,
      "outputs": [
        {
          "output_type": "stream",
          "name": "stdout",
          "text": [
            "[]\n"
          ]
        }
      ]
    },
    {
      "cell_type": "markdown",
      "metadata": {
        "id": "vulSxJNeb50Y"
      },
      "source": [
        "Bài 2"
      ]
    },
    {
      "cell_type": "code",
      "metadata": {
        "id": "8soxvrcwbj1N",
        "colab": {
          "base_uri": "https://localhost:8080/"
        },
        "outputId": "e3b43ab4-730d-43b2-a9e1-5029bf641565"
      },
      "source": [
        "kingdoms =['Bacteria','Protozoa','Chromista','Plantae','Fungi','Animalia']\n",
        "print(kingdoms[-6])"
      ],
      "execution_count": null,
      "outputs": [
        {
          "output_type": "stream",
          "name": "stdout",
          "text": [
            "Bacteria\n"
          ]
        }
      ]
    },
    {
      "cell_type": "code",
      "metadata": {
        "id": "zYTm61GSdXFj",
        "colab": {
          "base_uri": "https://localhost:8080/"
        },
        "outputId": "4ea371db-4967-4608-8882-93e86e378ece"
      },
      "source": [
        "print(kingdoms[-1])"
      ],
      "execution_count": null,
      "outputs": [
        {
          "output_type": "stream",
          "name": "stdout",
          "text": [
            "Animalia\n"
          ]
        }
      ]
    },
    {
      "cell_type": "code",
      "metadata": {
        "id": "EVLW5at-eYML",
        "colab": {
          "base_uri": "https://localhost:8080/"
        },
        "outputId": "e336a534-e854-44bf-f9ca-fe05fe9243cb"
      },
      "source": [
        "print(kingdoms[-6:-3])"
      ],
      "execution_count": null,
      "outputs": [
        {
          "output_type": "stream",
          "name": "stdout",
          "text": [
            "['Bacteria', 'Protozoa', 'Chromista']\n"
          ]
        }
      ]
    },
    {
      "cell_type": "code",
      "metadata": {
        "id": "GIR604txeekp",
        "colab": {
          "base_uri": "https://localhost:8080/"
        },
        "outputId": "e19278d9-1a08-46fc-8225-edae00d7168e"
      },
      "source": [
        "print(kingdoms[-4:-1])"
      ],
      "execution_count": null,
      "outputs": [
        {
          "output_type": "stream",
          "name": "stdout",
          "text": [
            "['Chromista', 'Plantae', 'Fungi']\n"
          ]
        }
      ]
    },
    {
      "cell_type": "code",
      "metadata": {
        "id": "-j-b5webe-B3",
        "colab": {
          "base_uri": "https://localhost:8080/"
        },
        "outputId": "f7d5b6e4-1607-4ddb-d670-3e26c4e55c41"
      },
      "source": [
        "print(kingdoms[-2:])"
      ],
      "execution_count": null,
      "outputs": [
        {
          "output_type": "stream",
          "name": "stdout",
          "text": [
            "['Fungi', 'Animalia']\n"
          ]
        }
      ]
    },
    {
      "cell_type": "code",
      "metadata": {
        "id": "PnH6KD7DgoNE",
        "colab": {
          "base_uri": "https://localhost:8080/"
        },
        "outputId": "30478e86-6e57-449b-8871-ff1785e47676"
      },
      "source": [
        "print(kingdoms[-1:-2])"
      ],
      "execution_count": null,
      "outputs": [
        {
          "output_type": "stream",
          "name": "stdout",
          "text": [
            "[]\n"
          ]
        }
      ]
    },
    {
      "cell_type": "markdown",
      "metadata": {
        "id": "YFUQ_gEvhTX5"
      },
      "source": [
        "Bài 3"
      ]
    },
    {
      "cell_type": "code",
      "metadata": {
        "id": "IuYaECzjhVCh",
        "colab": {
          "base_uri": "https://localhost:8080/"
        },
        "outputId": "d531c824-3a66-43b9-b64e-ab507b051f7f"
      },
      "source": [
        "appointment = ['9:00','10:30','14:00','15:00','15:30']\n",
        "appointment.append('16:30')\n",
        "print(appointment)"
      ],
      "execution_count": 1,
      "outputs": [
        {
          "output_type": "stream",
          "name": "stdout",
          "text": [
            "['9:00', '10:30', '14:00', '15:00', '15:30', '16:30']\n"
          ]
        }
      ]
    },
    {
      "cell_type": "code",
      "metadata": {
        "id": "rWQxg0eBO1Lw",
        "outputId": "021124e6-e06c-4ff8-b5d6-88288f21c856",
        "colab": {
          "base_uri": "https://localhost:8080/"
        }
      },
      "source": [
        "appointment = ['9:00','10:30','14:00','15:00','15:30']\n",
        "new = ['16:30']\n",
        "appointment1 = appointment + new\n",
        "print (appointment1)"
      ],
      "execution_count": 6,
      "outputs": [
        {
          "output_type": "stream",
          "name": "stdout",
          "text": [
            "['9:00', '10:30', '14:00', '15:00', '15:30', '16:30']\n"
          ]
        }
      ]
    },
    {
      "cell_type": "code",
      "metadata": {
        "id": "vytGn-_6PFaW",
        "outputId": "695c068f-7770-4af7-e8d6-cb177a2dbed3",
        "colab": {
          "base_uri": "https://localhost:8080/",
          "height": 35
        }
      },
      "source": [
        "'#### Theo em cả 2 cách toán tử và append đều giống nhau, đều thêm biến 16:30 vào cuối danh sách và in ra 1 danh sách mới'"
      ],
      "execution_count": 7,
      "outputs": [
        {
          "output_type": "execute_result",
          "data": {
            "application/vnd.google.colaboratory.intrinsic+json": {
              "type": "string"
            },
            "text/plain": [
              "'#### Theo em cả 2 cách toán tử và append đều giống nhau, đều thêm biến 16:30 vào cuối danh sách và in ra 1 danh sách mới'"
            ]
          },
          "metadata": {},
          "execution_count": 7
        }
      ]
    },
    {
      "cell_type": "markdown",
      "metadata": {
        "id": "JAdtRJIWP3xU"
      },
      "source": [
        "Bài 4"
      ]
    },
    {
      "cell_type": "code",
      "metadata": {
        "id": "GpHgudEQP0LU",
        "outputId": "8a52c259-051a-465f-f91e-fd4951eb73ee",
        "colab": {
          "base_uri": "https://localhost:8080/"
        }
      },
      "source": [
        "IDs = ['4353','2314','2956','3382','9362','3900']\n",
        "IDs.remove('3382')\n",
        "print(IDs)"
      ],
      "execution_count": 9,
      "outputs": [
        {
          "output_type": "stream",
          "name": "stdout",
          "text": [
            "['4353', '2314', '2956', '9362', '3900']\n"
          ]
        }
      ]
    },
    {
      "cell_type": "code",
      "metadata": {
        "id": "0X-rL_dHQ3XE",
        "outputId": "c7932b4d-9c73-45d0-d24e-c3501fefa140",
        "colab": {
          "base_uri": "https://localhost:8080/"
        }
      },
      "source": [
        "IDs = ['4353', '2314', '2956', '9362', '3900']\n",
        "IDs.index('9362')"
      ],
      "execution_count": 34,
      "outputs": [
        {
          "output_type": "execute_result",
          "data": {
            "text/plain": [
              "3"
            ]
          },
          "metadata": {},
          "execution_count": 34
        }
      ]
    },
    {
      "cell_type": "code",
      "metadata": {
        "id": "XlN6X9IBUftL",
        "outputId": "a27578ce-5d60-4e5c-b46d-f7986ae43bff",
        "colab": {
          "base_uri": "https://localhost:8080/"
        }
      },
      "source": [
        "IDs = ['4353', '2314', '2956', '9362', '3900']\n",
        "IDs.insert(4,'4499')\n",
        "print(IDs)"
      ],
      "execution_count": 44,
      "outputs": [
        {
          "output_type": "stream",
          "name": "stdout",
          "text": [
            "['4353', '2314', '2956', '9362', '4499', '3900']\n"
          ]
        }
      ]
    },
    {
      "cell_type": "code",
      "metadata": {
        "id": "rPb8Hh64XnIB",
        "outputId": "cc4a1322-db0a-46a6-e346-f4ca78b8eac3",
        "colab": {
          "base_uri": "https://localhost:8080/"
        }
      },
      "source": [
        "IDs = ['4353', '2314', '2956', '9362', '4499', '3900']\n",
        "IDs.extend(['5566','1830'])\n",
        "print(IDs)"
      ],
      "execution_count": 46,
      "outputs": [
        {
          "output_type": "stream",
          "name": "stdout",
          "text": [
            "['4353', '2314', '2956', '9362', '4499', '3900', '5566', '1830']\n"
          ]
        }
      ]
    },
    {
      "cell_type": "code",
      "metadata": {
        "id": "TydrCBmtX2BR",
        "outputId": "090c3fc7-3349-4022-93f6-abe5b4480ea3",
        "colab": {
          "base_uri": "https://localhost:8080/"
        }
      },
      "source": [
        "IDs = ['4353', '2314', '2956', '9362', '4499', '3900', '5566', '1830']\n",
        "IDs.reverse()\n",
        "print(IDs)"
      ],
      "execution_count": 49,
      "outputs": [
        {
          "output_type": "stream",
          "name": "stdout",
          "text": [
            "['1830', '5566', '3900', '4499', '9362', '2956', '2314', '4353']\n"
          ]
        }
      ]
    },
    {
      "cell_type": "code",
      "metadata": {
        "id": "WIUXzAr5YIp3",
        "outputId": "977f1fa7-9bb4-41d4-c2a9-05572e949c75",
        "colab": {
          "base_uri": "https://localhost:8080/"
        }
      },
      "source": [
        "IDs = ['4353', '2314', '2956', '9362', '4499', '3900', '5566', '1830']\n",
        "IDs.sort()\n",
        "print(IDs)"
      ],
      "execution_count": 50,
      "outputs": [
        {
          "output_type": "stream",
          "name": "stdout",
          "text": [
            "['1830', '2314', '2956', '3900', '4353', '4499', '5566', '9362']\n"
          ]
        }
      ]
    },
    {
      "cell_type": "markdown",
      "metadata": {
        "id": "Ca8RGIHkYe_f"
      },
      "source": [
        "Bài 5"
      ]
    },
    {
      "cell_type": "code",
      "metadata": {
        "id": "sRPFESYsYh_-"
      },
      "source": [
        ""
      ],
      "execution_count": null,
      "outputs": []
    }
  ]
}