{
  "nbformat": 4,
  "nbformat_minor": 0,
  "metadata": {
    "colab": {
      "name": "Lab01.ipynb",
      "provenance": [],
      "authorship_tag": "ABX9TyN4tcFMxM6pALzQAHHsUrWD",
      "include_colab_link": true
    },
    "kernelspec": {
      "name": "python3",
      "display_name": "Python 3"
    },
    "language_info": {
      "name": "python"
    }
  },
  "cells": [
    {
      "cell_type": "markdown",
      "metadata": {
        "id": "view-in-github",
        "colab_type": "text"
      },
      "source": [
        "<a href=\"https://colab.research.google.com/github/huypham090300/Pythonnangcao/blob/main/Lab01.ipynb\" target=\"_parent\"><img src=\"https://colab.research.google.com/assets/colab-badge.svg\" alt=\"Open In Colab\"/></a>"
      ]
    },
    {
      "cell_type": "markdown",
      "metadata": {
        "id": "lv-SDVAiIC_D"
      },
      "source": [
        "Chương 3"
      ]
    },
    {
      "cell_type": "markdown",
      "metadata": {
        "id": "9eFzJEROKSy9"
      },
      "source": [
        "Bài 1"
      ]
    },
    {
      "cell_type": "code",
      "metadata": {
        "id": "0yYKKfVltgGa",
        "colab": {
          "base_uri": "https://localhost:8080/"
        },
        "outputId": "dbeeec89-ca9e-4f93-97b6-7f666802932d"
      },
      "source": [
        "min (2,3,4)\n"
      ],
      "execution_count": null,
      "outputs": [
        {
          "output_type": "execute_result",
          "data": {
            "text/plain": [
              "2"
            ]
          },
          "metadata": {},
          "execution_count": 3
        }
      ]
    },
    {
      "cell_type": "code",
      "metadata": {
        "colab": {
          "base_uri": "https://localhost:8080/"
        },
        "id": "crUA4-Q9JnFD",
        "outputId": "cc32bde0-935e-481a-f796-32ab28fcee21"
      },
      "source": [
        "max (2, -3, 4, 7, -5)"
      ],
      "execution_count": null,
      "outputs": [
        {
          "output_type": "execute_result",
          "data": {
            "text/plain": [
              "7"
            ]
          },
          "metadata": {},
          "execution_count": 5
        }
      ]
    },
    {
      "cell_type": "code",
      "metadata": {
        "colab": {
          "base_uri": "https://localhost:8080/"
        },
        "id": "bmF-M1t7JtEk",
        "outputId": "854ea25c-0e66-47c1-c69a-1b8ebcc8ffa1"
      },
      "source": [
        "max (2, 3, min(4,7), -5)"
      ],
      "execution_count": null,
      "outputs": [
        {
          "output_type": "execute_result",
          "data": {
            "text/plain": [
              "4"
            ]
          },
          "metadata": {},
          "execution_count": 7
        }
      ]
    },
    {
      "cell_type": "markdown",
      "metadata": {
        "id": "M90Ob1vhKV3V"
      },
      "source": [
        "Bài 2"
      ]
    },
    {
      "cell_type": "code",
      "metadata": {
        "colab": {
          "base_uri": "https://localhost:8080/"
        },
        "id": "T6_Wk_q_KDor",
        "outputId": "96c2a8c2-81de-4f19-d3d1-6cb4dbefa30b"
      },
      "source": [
        "min (max(3,4), abs(-5))"
      ],
      "execution_count": null,
      "outputs": [
        {
          "output_type": "execute_result",
          "data": {
            "text/plain": [
              "4"
            ]
          },
          "metadata": {},
          "execution_count": 9
        }
      ]
    },
    {
      "cell_type": "code",
      "metadata": {
        "colab": {
          "base_uri": "https://localhost:8080/"
        },
        "id": "9F1RngVIKevz",
        "outputId": "24e75219-4842-43b8-f17d-d6b83a1248a1"
      },
      "source": [
        "abs(min(4,6, max(2,8)))"
      ],
      "execution_count": null,
      "outputs": [
        {
          "output_type": "execute_result",
          "data": {
            "text/plain": [
              "4"
            ]
          },
          "metadata": {},
          "execution_count": 11
        }
      ]
    },
    {
      "cell_type": "code",
      "metadata": {
        "colab": {
          "base_uri": "https://localhost:8080/"
        },
        "id": "PI6F69YuKv4E",
        "outputId": "2f82b304-fedf-474c-c0f6-cbb7761cd7c5"
      },
      "source": [
        "round(max(5.572, 3.258), abs(-2))"
      ],
      "execution_count": null,
      "outputs": [
        {
          "output_type": "execute_result",
          "data": {
            "text/plain": [
              "5.57"
            ]
          },
          "metadata": {},
          "execution_count": 13
        }
      ]
    },
    {
      "cell_type": "markdown",
      "metadata": {
        "id": "8iFhhaHhK83s"
      },
      "source": [
        "Bài 3"
      ]
    },
    {
      "cell_type": "code",
      "metadata": {
        "colab": {
          "base_uri": "https://localhost:8080/"
        },
        "id": "YLYWmgSBK6y1",
        "outputId": "0d4b2ea3-5417-4c68-a0da-350f40b3d624"
      },
      "source": [
        "def triple(num):\n",
        "  return num* 3\n",
        "triple(10)"
      ],
      "execution_count": null,
      "outputs": [
        {
          "output_type": "execute_result",
          "data": {
            "text/plain": [
              "30"
            ]
          },
          "metadata": {},
          "execution_count": 42
        }
      ]
    },
    {
      "cell_type": "markdown",
      "metadata": {
        "id": "nxO2YlG4UjCS"
      },
      "source": [
        "Bài 4"
      ]
    },
    {
      "cell_type": "code",
      "metadata": {
        "colab": {
          "base_uri": "https://localhost:8080/"
        },
        "id": "lWFE03LPUlTI",
        "outputId": "cceda92b-d998-4551-d4a4-b65f287760ed"
      },
      "source": [
        "def absolute_difference(n1,n2):\n",
        "  return(n1- n2)\n",
        "absolute_difference(10,5)"
      ],
      "execution_count": null,
      "outputs": [
        {
          "output_type": "execute_result",
          "data": {
            "text/plain": [
              "5"
            ]
          },
          "metadata": {},
          "execution_count": 46
        }
      ]
    },
    {
      "cell_type": "markdown",
      "metadata": {
        "id": "SLxq02HDUWd_"
      },
      "source": [
        "Bài 5"
      ]
    },
    {
      "cell_type": "code",
      "metadata": {
        "colab": {
          "base_uri": "https://localhost:8080/"
        },
        "id": "8mzb0gVRPxxx",
        "outputId": "18d7ee27-7fcf-4c2b-bb6f-3d2820abe504"
      },
      "source": [
        "def km_to_miles(n):\n",
        "  return n/1.6\n",
        "km_to_miles(16)"
      ],
      "execution_count": null,
      "outputs": [
        {
          "output_type": "execute_result",
          "data": {
            "text/plain": [
              "10.0"
            ]
          },
          "metadata": {},
          "execution_count": 34
        }
      ]
    },
    {
      "cell_type": "markdown",
      "metadata": {
        "id": "27CdzqW0Ubda"
      },
      "source": [
        "Bài 6"
      ]
    },
    {
      "cell_type": "code",
      "metadata": {
        "colab": {
          "base_uri": "https://localhost:8080/"
        },
        "id": "OO3EOA41Q4yk",
        "outputId": "fc8a83f6-8648-4fc8-e062-72b0500b78b9"
      },
      "source": [
        "def average_grade(grade1, grade2, grade3):\n",
        "  return (grade1 +grade2 +grade3)/3\n",
        "average_grade(80,20,50)"
      ],
      "execution_count": null,
      "outputs": [
        {
          "output_type": "execute_result",
          "data": {
            "text/plain": [
              "50.0"
            ]
          },
          "metadata": {},
          "execution_count": 35
        }
      ]
    },
    {
      "cell_type": "markdown",
      "metadata": {
        "id": "K7MB4WT2Ueq_"
      },
      "source": [
        "Bài 7"
      ]
    },
    {
      "cell_type": "code",
      "metadata": {
        "colab": {
          "base_uri": "https://localhost:8080/"
        },
        "id": "MkLA_PsjRTy-",
        "outputId": "c825597e-3c52-485f-889d-21ea10633290"
      },
      "source": [
        "def num_3_max(n1, n2, n3, n4):\n",
        "  total = n1 + n2 + n3 + n4\n",
        "  P = total - min(n1,n2,n3,n4)\n",
        "  S = P/3\n",
        "  return (S)\n",
        "num_3_max(5,6,7,8)"
      ],
      "execution_count": null,
      "outputs": [
        {
          "output_type": "execute_result",
          "data": {
            "text/plain": [
              "7.0"
            ]
          },
          "metadata": {},
          "execution_count": 41
        }
      ]
    },
    {
      "cell_type": "markdown",
      "metadata": {
        "id": "qMkntAubVXfS"
      },
      "source": [
        "Bài 8"
      ]
    },
    {
      "cell_type": "code",
      "metadata": {
        "colab": {
          "base_uri": "https://localhost:8080/"
        },
        "id": "Rz76NR_aUKOl",
        "outputId": "bfa5c603-72f7-4630-9f44-91b432afae26"
      },
      "source": [
        "def weeks_elapsed(day1, day2):\n",
        "    n = (day2-day1)//7\n",
        "    return n\n",
        "weeks_elapsed(10,80)"
      ],
      "execution_count": 5,
      "outputs": [
        {
          "output_type": "execute_result",
          "data": {
            "text/plain": [
              "10"
            ]
          },
          "metadata": {},
          "execution_count": 5
        }
      ]
    },
    {
      "cell_type": "markdown",
      "metadata": {
        "id": "B0q1PC6uYGks"
      },
      "source": [
        "Bài 9"
      ]
    },
    {
      "cell_type": "code",
      "metadata": {
        "colab": {
          "base_uri": "https://localhost:8080/"
        },
        "id": "Ts0cOM7QYFT9",
        "outputId": "369f056d-62c6-4118-b479-4116ce60efb0"
      },
      "source": [
        "def square(num):\n",
        "  num = num*num\n",
        "  return num\n",
        "square(10)"
      ],
      "execution_count": null,
      "outputs": [
        {
          "output_type": "execute_result",
          "data": {
            "text/plain": [
              "100"
            ]
          },
          "metadata": {},
          "execution_count": 56
        }
      ]
    },
    {
      "cell_type": "markdown",
      "metadata": {
        "id": "89OWHymcbGIB"
      },
      "source": [
        "Bài 10"
      ]
    },
    {
      "cell_type": "code",
      "metadata": {
        "colab": {
          "base_uri": "https://localhost:8080/"
        },
        "id": "AeiXoEI-bFU1",
        "outputId": "d004c6f6-38dc-4d2f-e07e-e0b2509fd700"
      },
      "source": [
        "n = 4\n",
        "n = n*n\n",
        "print(n)"
      ],
      "execution_count": null,
      "outputs": [
        {
          "output_type": "stream",
          "name": "stdout",
          "text": [
            "16\n"
          ]
        }
      ]
    },
    {
      "cell_type": "markdown",
      "metadata": {
        "id": "PtNlk3yGbz2L"
      },
      "source": [
        "Chương 6"
      ]
    },
    {
      "cell_type": "markdown",
      "metadata": {
        "id": "F06Pq9bLb36a"
      },
      "source": [
        "Bài 1"
      ]
    },
    {
      "cell_type": "code",
      "metadata": {
        "colab": {
          "base_uri": "https://localhost:8080/"
        },
        "id": "V1cx5zsWdlgi",
        "outputId": "783b37f4-9f73-4001-d268-cfb9a3d4f8b1"
      },
      "source": [
        "import math\n",
        "math.floor(-2.8)"
      ],
      "execution_count": null,
      "outputs": [
        {
          "output_type": "execute_result",
          "data": {
            "text/plain": [
              "-3"
            ]
          },
          "metadata": {},
          "execution_count": 72
        }
      ]
    },
    {
      "cell_type": "code",
      "metadata": {
        "colab": {
          "base_uri": "https://localhost:8080/"
        },
        "id": "9WWGkZqlb3M9",
        "outputId": "2d015e2b-c9be-4373-c594-00b39f5246f0"
      },
      "source": [
        "abs(round(-4.3))"
      ],
      "execution_count": null,
      "outputs": [
        {
          "output_type": "execute_result",
          "data": {
            "text/plain": [
              "4"
            ]
          },
          "metadata": {},
          "execution_count": 73
        }
      ]
    },
    {
      "cell_type": "code",
      "metadata": {
        "colab": {
          "base_uri": "https://localhost:8080/"
        },
        "id": "B4hKG-75eIKr",
        "outputId": "2b9b39fd-2d44-4469-f26d-ae4d88ae4a88"
      },
      "source": [
        "math.ceil(math.sin(34.5))"
      ],
      "execution_count": null,
      "outputs": [
        {
          "output_type": "execute_result",
          "data": {
            "text/plain": [
              "1"
            ]
          },
          "metadata": {},
          "execution_count": 74
        }
      ]
    },
    {
      "cell_type": "markdown",
      "metadata": {
        "id": "RinVdzIIkVOo"
      },
      "source": [
        "Bài 2"
      ]
    },
    {
      "cell_type": "code",
      "metadata": {
        "id": "dqnQ6BofkWjh"
      },
      "source": [
        "import calendar"
      ],
      "execution_count": null,
      "outputs": []
    },
    {
      "cell_type": "code",
      "metadata": {
        "colab": {
          "base_uri": "https://localhost:8080/"
        },
        "id": "jcvbWcH4kYG2",
        "outputId": "1e1c9541-8af7-4ab4-f665-004266cdcd28"
      },
      "source": [
        "help(calendar.isleap)"
      ],
      "execution_count": null,
      "outputs": [
        {
          "output_type": "stream",
          "name": "stdout",
          "text": [
            "Help on function isleap in module calendar:\n",
            "\n",
            "isleap(year)\n",
            "    Return True for leap years, False for non-leap years.\n",
            "\n"
          ]
        }
      ]
    },
    {
      "cell_type": "code",
      "metadata": {
        "colab": {
          "base_uri": "https://localhost:8080/"
        },
        "id": "zFfCsH4flP8_",
        "outputId": "60ecea66-c701-479b-c37f-483df8606a2b"
      },
      "source": [
        "calendar.isleap(2016)"
      ],
      "execution_count": null,
      "outputs": [
        {
          "output_type": "execute_result",
          "data": {
            "text/plain": [
              "True"
            ]
          },
          "metadata": {},
          "execution_count": 77
        }
      ]
    },
    {
      "cell_type": "code",
      "metadata": {
        "colab": {
          "base_uri": "https://localhost:8080/"
        },
        "id": "3P2DQeWjlOIP",
        "outputId": "4236e5bf-aa78-4d37-e260-82919fb0e3e6"
      },
      "source": [
        "dir(calendar)"
      ],
      "execution_count": null,
      "outputs": [
        {
          "output_type": "execute_result",
          "data": {
            "text/plain": [
              "['Calendar',\n",
              " 'EPOCH',\n",
              " 'FRIDAY',\n",
              " 'February',\n",
              " 'HTMLCalendar',\n",
              " 'IllegalMonthError',\n",
              " 'IllegalWeekdayError',\n",
              " 'January',\n",
              " 'LocaleHTMLCalendar',\n",
              " 'LocaleTextCalendar',\n",
              " 'MONDAY',\n",
              " 'SATURDAY',\n",
              " 'SUNDAY',\n",
              " 'THURSDAY',\n",
              " 'TUESDAY',\n",
              " 'TextCalendar',\n",
              " 'WEDNESDAY',\n",
              " '_EPOCH_ORD',\n",
              " '__all__',\n",
              " '__builtins__',\n",
              " '__cached__',\n",
              " '__doc__',\n",
              " '__file__',\n",
              " '__loader__',\n",
              " '__name__',\n",
              " '__package__',\n",
              " '__spec__',\n",
              " '_colwidth',\n",
              " '_locale',\n",
              " '_localized_day',\n",
              " '_localized_month',\n",
              " '_spacing',\n",
              " 'c',\n",
              " 'calendar',\n",
              " 'datetime',\n",
              " 'day_abbr',\n",
              " 'day_name',\n",
              " 'different_locale',\n",
              " 'error',\n",
              " 'firstweekday',\n",
              " 'format',\n",
              " 'formatstring',\n",
              " 'isleap',\n",
              " 'leapdays',\n",
              " 'main',\n",
              " 'mdays',\n",
              " 'month',\n",
              " 'month_abbr',\n",
              " 'month_name',\n",
              " 'monthcalendar',\n",
              " 'monthlen',\n",
              " 'monthrange',\n",
              " 'nextmonth',\n",
              " 'prcal',\n",
              " 'prevmonth',\n",
              " 'prmonth',\n",
              " 'prweek',\n",
              " 'repeat',\n",
              " 'setfirstweekday',\n",
              " 'sys',\n",
              " 'timegm',\n",
              " 'week',\n",
              " 'weekday',\n",
              " 'weekheader']"
            ]
          },
          "metadata": {},
          "execution_count": 78
        }
      ]
    },
    {
      "cell_type": "code",
      "metadata": {
        "colab": {
          "base_uri": "https://localhost:8080/"
        },
        "id": "T3wwwgR7mDO_",
        "outputId": "113dd2b0-be7d-435a-8e9b-8ba690f52258"
      },
      "source": [
        "calendar.leapdays(2000,2050)"
      ],
      "execution_count": null,
      "outputs": [
        {
          "output_type": "execute_result",
          "data": {
            "text/plain": [
              "13"
            ]
          },
          "metadata": {},
          "execution_count": 79
        }
      ]
    },
    {
      "cell_type": "code",
      "metadata": {
        "colab": {
          "base_uri": "https://localhost:8080/"
        },
        "id": "gRLDuL3pmJbN",
        "outputId": "cc0ad958-d290-40c4-e31d-75802b4c2215"
      },
      "source": [
        "calendar.weekday(2016,7,29)"
      ],
      "execution_count": null,
      "outputs": [
        {
          "output_type": "execute_result",
          "data": {
            "text/plain": [
              "4"
            ]
          },
          "metadata": {},
          "execution_count": 81
        }
      ]
    },
    {
      "cell_type": "markdown",
      "metadata": {
        "id": "ptfSk9FSpGm5"
      },
      "source": [
        "Bài 3"
      ]
    },
    {
      "cell_type": "code",
      "metadata": {
        "colab": {
          "base_uri": "https://localhost:8080/"
        },
        "id": "4RWVk6samNuA",
        "outputId": "d11ff922-8ad3-412a-cd38-5ed9c214ba79"
      },
      "source": [
        "def average(n1: float, n2:float):\n",
        "  s = (n1+n2)/2\n",
        "  return s\n",
        "average(2.5,7.5)"
      ],
      "execution_count": null,
      "outputs": [
        {
          "output_type": "execute_result",
          "data": {
            "text/plain": [
              "5.0"
            ]
          },
          "metadata": {},
          "execution_count": 84
        }
      ]
    },
    {
      "cell_type": "markdown",
      "metadata": {
        "id": "O0YP1zDdpyoT"
      },
      "source": [
        "Chương 7"
      ]
    },
    {
      "cell_type": "markdown",
      "metadata": {
        "id": "027Nc0hgp0lc"
      },
      "source": [
        "Bài 1"
      ]
    },
    {
      "cell_type": "code",
      "metadata": {
        "id": "2HjVzsB4pWKC",
        "colab": {
          "base_uri": "https://localhost:8080/",
          "height": 35
        },
        "outputId": "656460b1-2f8e-44cf-8954-4c391ea89635"
      },
      "source": [
        "'hello'.upper()"
      ],
      "execution_count": null,
      "outputs": [
        {
          "output_type": "execute_result",
          "data": {
            "application/vnd.google.colaboratory.intrinsic+json": {
              "type": "string"
            },
            "text/plain": [
              "'HELLO'"
            ]
          },
          "metadata": {},
          "execution_count": 101
        }
      ]
    },
    {
      "cell_type": "code",
      "metadata": {
        "id": "Vm5_5Vuyp_SU",
        "colab": {
          "base_uri": "https://localhost:8080/",
          "height": 35
        },
        "outputId": "ec8cabda-ecee-49b7-c625-637dc64f3055"
      },
      "source": [
        "'Happy Birthday!'.lower()"
      ],
      "execution_count": null,
      "outputs": [
        {
          "output_type": "execute_result",
          "data": {
            "application/vnd.google.colaboratory.intrinsic+json": {
              "type": "string"
            },
            "text/plain": [
              "'happy birthday!'"
            ]
          },
          "metadata": {},
          "execution_count": 103
        }
      ]
    },
    {
      "cell_type": "code",
      "metadata": {
        "id": "Axk_4Pm_rFYp",
        "colab": {
          "base_uri": "https://localhost:8080/",
          "height": 35
        },
        "outputId": "53e42519-43fd-4f7d-d990-7ede33f862d7"
      },
      "source": [
        "'WeeeEEEEeeeEEEEeee'.swapcase()"
      ],
      "execution_count": null,
      "outputs": [
        {
          "output_type": "execute_result",
          "data": {
            "application/vnd.google.colaboratory.intrinsic+json": {
              "type": "string"
            },
            "text/plain": [
              "'wEEEeeeeEEEeeeeEEE'"
            ]
          },
          "metadata": {},
          "execution_count": 104
        }
      ]
    },
    {
      "cell_type": "code",
      "metadata": {
        "id": "-rJDsOHJrImk",
        "colab": {
          "base_uri": "https://localhost:8080/"
        },
        "outputId": "30e733c3-e291-4d7b-8e14-4243ae5f63fc"
      },
      "source": [
        "'ABC123'.isupper()"
      ],
      "execution_count": null,
      "outputs": [
        {
          "output_type": "execute_result",
          "data": {
            "text/plain": [
              "True"
            ]
          },
          "metadata": {},
          "execution_count": 105
        }
      ]
    },
    {
      "cell_type": "code",
      "metadata": {
        "id": "VlKwg5XYrL0g",
        "colab": {
          "base_uri": "https://localhost:8080/"
        },
        "outputId": "290e6d4c-d669-4bef-fdbf-3e32025f94bb"
      },
      "source": [
        "'aeiouAEIOU'.count('a')"
      ],
      "execution_count": null,
      "outputs": [
        {
          "output_type": "execute_result",
          "data": {
            "text/plain": [
              "1"
            ]
          },
          "metadata": {},
          "execution_count": 106
        }
      ]
    },
    {
      "cell_type": "code",
      "metadata": {
        "id": "rvwWD92ZrOr9",
        "colab": {
          "base_uri": "https://localhost:8080/"
        },
        "outputId": "2f04a8c1-b119-4f6f-fd52-c3edda5030b5"
      },
      "source": [
        "'hello'.endswith('o')"
      ],
      "execution_count": null,
      "outputs": [
        {
          "output_type": "execute_result",
          "data": {
            "text/plain": [
              "True"
            ]
          },
          "metadata": {},
          "execution_count": 107
        }
      ]
    },
    {
      "cell_type": "code",
      "metadata": {
        "id": "wbdwcx8OrS6n",
        "colab": {
          "base_uri": "https://localhost:8080/"
        },
        "outputId": "6d475940-8391-43ac-a3bf-2851c1cc9b60"
      },
      "source": [
        "'hello'.startswith('H')"
      ],
      "execution_count": null,
      "outputs": [
        {
          "output_type": "execute_result",
          "data": {
            "text/plain": [
              "False"
            ]
          },
          "metadata": {},
          "execution_count": 108
        }
      ]
    },
    {
      "cell_type": "code",
      "metadata": {
        "id": "9ruNw4YIrVgx",
        "colab": {
          "base_uri": "https://localhost:8080/",
          "height": 35
        },
        "outputId": "917700d3-dbb1-4111-dcb3-df3ede37f368"
      },
      "source": [
        "'Hello {0}'.format('Python')"
      ],
      "execution_count": null,
      "outputs": [
        {
          "output_type": "execute_result",
          "data": {
            "application/vnd.google.colaboratory.intrinsic+json": {
              "type": "string"
            },
            "text/plain": [
              "'Hello Python'"
            ]
          },
          "metadata": {},
          "execution_count": 109
        }
      ]
    },
    {
      "cell_type": "code",
      "metadata": {
        "id": "4XAcxz-hrbBV",
        "colab": {
          "base_uri": "https://localhost:8080/",
          "height": 35
        },
        "outputId": "cd8527f2-b5a2-4fab-b798-c7d6bd2f82bb"
      },
      "source": [
        "'Hello {0}! Hello {1}!'.format('Python', 'World')"
      ],
      "execution_count": null,
      "outputs": [
        {
          "output_type": "execute_result",
          "data": {
            "application/vnd.google.colaboratory.intrinsic+json": {
              "type": "string"
            },
            "text/plain": [
              "'Hello Python! Hello World!'"
            ]
          },
          "metadata": {},
          "execution_count": 110
        }
      ]
    },
    {
      "cell_type": "markdown",
      "metadata": {
        "id": "668BNAUWrh8S"
      },
      "source": [
        "Bài 2"
      ]
    },
    {
      "cell_type": "code",
      "metadata": {
        "id": "RatdVO58rfBq",
        "colab": {
          "base_uri": "https://localhost:8080/"
        },
        "outputId": "5f25832e-de3e-48f7-dd01-31025f4c9815"
      },
      "source": [
        "'tomato'.count('o')"
      ],
      "execution_count": null,
      "outputs": [
        {
          "output_type": "execute_result",
          "data": {
            "text/plain": [
              "2"
            ]
          },
          "metadata": {},
          "execution_count": 111
        }
      ]
    },
    {
      "cell_type": "markdown",
      "metadata": {
        "id": "is1nmibDKIg-"
      },
      "source": [
        "Bài 3"
      ]
    },
    {
      "cell_type": "code",
      "metadata": {
        "id": "jweANOEpsByE",
        "colab": {
          "base_uri": "https://localhost:8080/"
        },
        "outputId": "b71931ef-e045-4ff2-fe48-677a76c9caa6"
      },
      "source": [
        "'tomato'.index('o')"
      ],
      "execution_count": null,
      "outputs": [
        {
          "output_type": "execute_result",
          "data": {
            "text/plain": [
              "1"
            ]
          },
          "metadata": {},
          "execution_count": 114
        }
      ]
    },
    {
      "cell_type": "markdown",
      "metadata": {
        "id": "_69IOz5HKKbl"
      },
      "source": [
        "Bài 4"
      ]
    },
    {
      "cell_type": "code",
      "metadata": {
        "id": "-VU0QwrnsL8e",
        "colab": {
          "base_uri": "https://localhost:8080/"
        },
        "outputId": "c8c5901e-c4af-4dca-bcbe-a687274ffa60"
      },
      "source": [
        "'tomato'.index('o',2,len('tomato'))"
      ],
      "execution_count": 14,
      "outputs": [
        {
          "output_type": "execute_result",
          "data": {
            "text/plain": [
              "5"
            ]
          },
          "metadata": {},
          "execution_count": 14
        }
      ]
    },
    {
      "cell_type": "markdown",
      "metadata": {
        "id": "XQYgN1SUKmxB"
      },
      "source": [
        "Bài 5"
      ]
    },
    {
      "cell_type": "code",
      "metadata": {
        "id": "LnjWY5MeKlvw",
        "outputId": "4ab5c1ce-5b38-4ac7-c61c-e177511d026c",
        "colab": {
          "base_uri": "https://localhost:8080/"
        }
      },
      "source": [
        "'avocado'.index('o',6,len('avocado'))"
      ],
      "execution_count": 15,
      "outputs": [
        {
          "output_type": "execute_result",
          "data": {
            "text/plain": [
              "6"
            ]
          },
          "metadata": {},
          "execution_count": 15
        }
      ]
    },
    {
      "cell_type": "markdown",
      "metadata": {
        "id": "5ov4TopWLZJc"
      },
      "source": [
        "Bài 6"
      ]
    },
    {
      "cell_type": "code",
      "metadata": {
        "id": "NzZdEsZnLb0S",
        "outputId": "e9f58d8b-9c32-4beb-fe46-1cd51f2ac28a",
        "colab": {
          "base_uri": "https://localhost:8080/",
          "height": 35
        }
      },
      "source": [
        "'runner'.replace('n','b')"
      ],
      "execution_count": 19,
      "outputs": [
        {
          "output_type": "execute_result",
          "data": {
            "application/vnd.google.colaboratory.intrinsic+json": {
              "type": "string"
            },
            "text/plain": [
              "'rubber'"
            ]
          },
          "metadata": {},
          "execution_count": 19
        }
      ]
    },
    {
      "cell_type": "markdown",
      "metadata": {
        "id": "GLdLYhxQMKBX"
      },
      "source": [
        "Bài 7"
      ]
    },
    {
      "cell_type": "code",
      "metadata": {
        "id": "ZZU5PU4IMJQ2",
        "outputId": "b1b1eda1-12c7-4525-c081-c0a7291e5146",
        "colab": {
          "base_uri": "https://localhost:8080/",
          "height": 35
        }
      },
      "source": [
        "' yes '.strip()"
      ],
      "execution_count": 21,
      "outputs": [
        {
          "output_type": "execute_result",
          "data": {
            "application/vnd.google.colaboratory.intrinsic+json": {
              "type": "string"
            },
            "text/plain": [
              "'yes'"
            ]
          },
          "metadata": {},
          "execution_count": 21
        }
      ]
    },
    {
      "cell_type": "markdown",
      "metadata": {
        "id": "WlKvgdiBNSRt"
      },
      "source": [
        "Bài 8"
      ]
    },
    {
      "cell_type": "code",
      "metadata": {
        "id": "tCWYQUSXNRTB",
        "outputId": "7e89f063-01e5-4b86-bd5d-4ef9001c86b9",
        "colab": {
          "base_uri": "https://localhost:8080/"
        }
      },
      "source": [
        "'pineapple'.find('p','pineapple'.count('p'))"
      ],
      "execution_count": 23,
      "outputs": [
        {
          "output_type": "execute_result",
          "data": {
            "text/plain": [
              "5"
            ]
          },
          "metadata": {},
          "execution_count": 23
        }
      ]
    },
    {
      "cell_type": "code",
      "metadata": {
        "id": "p2c2XnCnNr8p",
        "outputId": "32991e3f-ca6b-4619-b354-62ab7f2ca35a",
        "colab": {
          "base_uri": "https://localhost:8080/"
        }
      },
      "source": [
        "'pineapple'.count('pineapple'.upper().swapcase())"
      ],
      "execution_count": 25,
      "outputs": [
        {
          "output_type": "execute_result",
          "data": {
            "text/plain": [
              "1"
            ]
          },
          "metadata": {},
          "execution_count": 25
        }
      ]
    },
    {
      "cell_type": "code",
      "metadata": {
        "id": "ge-BqjOdOF7P",
        "outputId": "20e6b5b8-a5c0-478e-c43a-c44cb0ebdc40",
        "colab": {
          "base_uri": "https://localhost:8080/",
          "height": 35
        }
      },
      "source": [
        "'pineapple'.replace('pineapple'.swapcase(), 'pineapple'.lower())"
      ],
      "execution_count": 27,
      "outputs": [
        {
          "output_type": "execute_result",
          "data": {
            "application/vnd.google.colaboratory.intrinsic+json": {
              "type": "string"
            },
            "text/plain": [
              "'pineapple'"
            ]
          },
          "metadata": {},
          "execution_count": 27
        }
      ]
    },
    {
      "cell_type": "markdown",
      "metadata": {
        "id": "ZNgj1gJ-Ok8f"
      },
      "source": [
        "Bài 9"
      ]
    },
    {
      "cell_type": "code",
      "metadata": {
        "id": "443gA4twOj55",
        "outputId": "d3764c0a-c0db-48f6-ec30-6897162dd9d3",
        "colab": {
          "base_uri": "https://localhost:8080/",
          "height": 35
        }
      },
      "source": [
        "'I love {0}'.format('summer')"
      ],
      "execution_count": 32,
      "outputs": [
        {
          "output_type": "execute_result",
          "data": {
            "application/vnd.google.colaboratory.intrinsic+json": {
              "type": "string"
            },
            "text/plain": [
              "'I love summer'"
            ]
          },
          "metadata": {},
          "execution_count": 32
        }
      ]
    },
    {
      "cell_type": "markdown",
      "metadata": {
        "id": "dlAUhQpEPGJw"
      },
      "source": [
        "Bài 10"
      ]
    },
    {
      "cell_type": "code",
      "metadata": {
        "id": "3uFGE5epPFbb",
        "outputId": "b5a25b92-e4a3-4b40-e03b-ed0dc9275a82",
        "colab": {
          "base_uri": "https://localhost:8080/",
          "height": 35
        }
      },
      "source": [
        "'The sides have lengths 3,4 and 5'\n",
        "'The sides have lengths {0}, {1} and {2}'.format('side1','side2','side3')"
      ],
      "execution_count": 37,
      "outputs": [
        {
          "output_type": "execute_result",
          "data": {
            "application/vnd.google.colaboratory.intrinsic+json": {
              "type": "string"
            },
            "text/plain": [
              "'The sides have lengths side1, side2 and side3'"
            ]
          },
          "metadata": {},
          "execution_count": 37
        }
      ]
    },
    {
      "cell_type": "markdown",
      "metadata": {
        "id": "Ip_J_RulTA6N"
      },
      "source": [
        "Bài 11"
      ]
    },
    {
      "cell_type": "code",
      "metadata": {
        "id": "jHAj1T1nTALP",
        "outputId": "a8c16280-aa9b-45cd-8cc7-014f74acdfac",
        "colab": {
          "base_uri": "https://localhost:8080/",
          "height": 35
        }
      },
      "source": [
        "'boolean'.upper()"
      ],
      "execution_count": 38,
      "outputs": [
        {
          "output_type": "execute_result",
          "data": {
            "application/vnd.google.colaboratory.intrinsic+json": {
              "type": "string"
            },
            "text/plain": [
              "'BOOLEAN'"
            ]
          },
          "metadata": {},
          "execution_count": 38
        }
      ]
    },
    {
      "cell_type": "code",
      "metadata": {
        "id": "2XE2a9cqTmE_",
        "outputId": "a55781b9-5a82-4cf3-b42d-4a4d7dcc9c0e",
        "colab": {
          "base_uri": "https://localhost:8080/"
        }
      },
      "source": [
        "'CO2H2O'.find('2')"
      ],
      "execution_count": 40,
      "outputs": [
        {
          "output_type": "execute_result",
          "data": {
            "text/plain": [
              "2"
            ]
          },
          "metadata": {},
          "execution_count": 40
        }
      ]
    },
    {
      "cell_type": "code",
      "metadata": {
        "id": "UWJ9zQi9UueA",
        "outputId": "cc0c4aef-e0a9-42f4-c255-598b97a1ea11",
        "colab": {
          "base_uri": "https://localhost:8080/"
        }
      },
      "source": [
        "'CO2H2O'.find('2','CO2H2O'.find('2'))"
      ],
      "execution_count": 42,
      "outputs": [
        {
          "output_type": "execute_result",
          "data": {
            "text/plain": [
              "2"
            ]
          },
          "metadata": {},
          "execution_count": 42
        }
      ]
    },
    {
      "cell_type": "code",
      "metadata": {
        "id": "ClXVWnJTVnBq",
        "outputId": "39b04f73-da8b-4370-d546-2ba836c7cfa6",
        "colab": {
          "base_uri": "https://localhost:8080/",
          "height": 35
        }
      },
      "source": [
        "'Boolean'[0].lower()"
      ],
      "execution_count": 51,
      "outputs": [
        {
          "output_type": "execute_result",
          "data": {
            "application/vnd.google.colaboratory.intrinsic+json": {
              "type": "string"
            },
            "text/plain": [
              "'b'"
            ]
          },
          "metadata": {},
          "execution_count": 51
        }
      ]
    },
    {
      "cell_type": "code",
      "metadata": {
        "id": "wQcmeCDgWab0",
        "outputId": "6997db52-e2e4-4226-e1a7-38093dae05e7",
        "colab": {
          "base_uri": "https://localhost:8080/",
          "height": 35
        }
      },
      "source": [
        "('MoNDaY'.lower()).capitalize()"
      ],
      "execution_count": 59,
      "outputs": [
        {
          "output_type": "execute_result",
          "data": {
            "application/vnd.google.colaboratory.intrinsic+json": {
              "type": "string"
            },
            "text/plain": [
              "'Monday'"
            ]
          },
          "metadata": {},
          "execution_count": 59
        }
      ]
    },
    {
      "cell_type": "code",
      "metadata": {
        "id": "F3ZIdMb7Ymjh",
        "outputId": "04cb0bff-b9d3-47a2-dc6d-cb55b34bc7bb",
        "colab": {
          "base_uri": "https://localhost:8080/",
          "height": 35
        }
      },
      "source": [
        "' Monday'.strip()"
      ],
      "execution_count": 61,
      "outputs": [
        {
          "output_type": "execute_result",
          "data": {
            "application/vnd.google.colaboratory.intrinsic+json": {
              "type": "string"
            },
            "text/plain": [
              "'Monday'"
            ]
          },
          "metadata": {},
          "execution_count": 61
        }
      ]
    },
    {
      "cell_type": "markdown",
      "metadata": {
        "id": "kho9BMO4aASy"
      },
      "source": [
        "Bài 12"
      ]
    },
    {
      "cell_type": "code",
      "metadata": {
        "id": "Bp7bDfWgZ_XG",
        "outputId": "07a40b3a-526f-4d7b-83fb-198077a0dc8c",
        "colab": {
          "base_uri": "https://localhost:8080/"
        }
      },
      "source": [
        "def total_occurences(s1, s2, ch):\n",
        "  len(ch) == 1\n",
        "  return s1.count(ch) + s2.count(ch)\n",
        "total_occurences('yellow','color','l')\n",
        "\n"
      ],
      "execution_count": 70,
      "outputs": [
        {
          "output_type": "execute_result",
          "data": {
            "text/plain": [
              "3"
            ]
          },
          "metadata": {},
          "execution_count": 70
        }
      ]
    },
    {
      "cell_type": "code",
      "metadata": {
        "id": "NDHQmTbVd1Ce",
        "outputId": "776b5834-e425-46dc-b35a-618c037cbc1a",
        "colab": {
          "base_uri": "https://localhost:8080/"
        }
      },
      "source": [
        "total_occurences('red','blue','l')"
      ],
      "execution_count": 72,
      "outputs": [
        {
          "output_type": "execute_result",
          "data": {
            "text/plain": [
              "1"
            ]
          },
          "metadata": {},
          "execution_count": 72
        }
      ]
    },
    {
      "cell_type": "code",
      "metadata": {
        "id": "PvwANeZwd7LF",
        "outputId": "70868b92-9fcf-4a65-bd1d-781d208c8e52",
        "colab": {
          "base_uri": "https://localhost:8080/"
        }
      },
      "source": [
        "total_occurences('green','purple','b')"
      ],
      "execution_count": 73,
      "outputs": [
        {
          "output_type": "execute_result",
          "data": {
            "text/plain": [
              "0"
            ]
          },
          "metadata": {},
          "execution_count": 73
        }
      ]
    }
  ]
}