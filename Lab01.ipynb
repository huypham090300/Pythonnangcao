{
  "nbformat": 4,
  "nbformat_minor": 0,
  "metadata": {
    "colab": {
      "name": "Lab01.ipynb",
      "provenance": [],
      "authorship_tag": "ABX9TyP0DkCRVmd0toy3DVgA9NGp",
      "include_colab_link": true
    },
    "kernelspec": {
      "name": "python3",
      "display_name": "Python 3"
    },
    "language_info": {
      "name": "python"
    }
  },
  "cells": [
    {
      "cell_type": "markdown",
      "metadata": {
        "id": "view-in-github",
        "colab_type": "text"
      },
      "source": [
        "<a href=\"https://colab.research.google.com/github/huypham090300/Pythonnangcao/blob/main/Lab01.ipynb\" target=\"_parent\"><img src=\"https://colab.research.google.com/assets/colab-badge.svg\" alt=\"Open In Colab\"/></a>"
      ]
    },
    {
      "cell_type": "markdown",
      "metadata": {
        "id": "lv-SDVAiIC_D"
      },
      "source": [
        "Chương 3"
      ]
    },
    {
      "cell_type": "markdown",
      "metadata": {
        "id": "9eFzJEROKSy9"
      },
      "source": [
        "Bài 1"
      ]
    },
    {
      "cell_type": "code",
      "metadata": {
        "id": "0yYKKfVltgGa",
        "colab": {
          "base_uri": "https://localhost:8080/"
        },
        "outputId": "dbeeec89-ca9e-4f93-97b6-7f666802932d"
      },
      "source": [
        "min (2,3,4)\n"
      ],
      "execution_count": 3,
      "outputs": [
        {
          "output_type": "execute_result",
          "data": {
            "text/plain": [
              "2"
            ]
          },
          "metadata": {},
          "execution_count": 3
        }
      ]
    },
    {
      "cell_type": "code",
      "metadata": {
        "colab": {
          "base_uri": "https://localhost:8080/"
        },
        "id": "crUA4-Q9JnFD",
        "outputId": "cc32bde0-935e-481a-f796-32ab28fcee21"
      },
      "source": [
        "max (2, -3, 4, 7, -5)"
      ],
      "execution_count": 5,
      "outputs": [
        {
          "output_type": "execute_result",
          "data": {
            "text/plain": [
              "7"
            ]
          },
          "metadata": {},
          "execution_count": 5
        }
      ]
    },
    {
      "cell_type": "code",
      "metadata": {
        "colab": {
          "base_uri": "https://localhost:8080/"
        },
        "id": "bmF-M1t7JtEk",
        "outputId": "854ea25c-0e66-47c1-c69a-1b8ebcc8ffa1"
      },
      "source": [
        "max (2, 3, min(4,7), -5)"
      ],
      "execution_count": 7,
      "outputs": [
        {
          "output_type": "execute_result",
          "data": {
            "text/plain": [
              "4"
            ]
          },
          "metadata": {},
          "execution_count": 7
        }
      ]
    },
    {
      "cell_type": "markdown",
      "metadata": {
        "id": "M90Ob1vhKV3V"
      },
      "source": [
        "Bài 2"
      ]
    },
    {
      "cell_type": "code",
      "metadata": {
        "colab": {
          "base_uri": "https://localhost:8080/"
        },
        "id": "T6_Wk_q_KDor",
        "outputId": "96c2a8c2-81de-4f19-d3d1-6cb4dbefa30b"
      },
      "source": [
        "min (max(3,4), abs(-5))"
      ],
      "execution_count": 9,
      "outputs": [
        {
          "output_type": "execute_result",
          "data": {
            "text/plain": [
              "4"
            ]
          },
          "metadata": {},
          "execution_count": 9
        }
      ]
    },
    {
      "cell_type": "code",
      "metadata": {
        "colab": {
          "base_uri": "https://localhost:8080/"
        },
        "id": "9F1RngVIKevz",
        "outputId": "24e75219-4842-43b8-f17d-d6b83a1248a1"
      },
      "source": [
        "abs(min(4,6, max(2,8)))"
      ],
      "execution_count": 11,
      "outputs": [
        {
          "output_type": "execute_result",
          "data": {
            "text/plain": [
              "4"
            ]
          },
          "metadata": {},
          "execution_count": 11
        }
      ]
    },
    {
      "cell_type": "code",
      "metadata": {
        "colab": {
          "base_uri": "https://localhost:8080/"
        },
        "id": "PI6F69YuKv4E",
        "outputId": "2f82b304-fedf-474c-c0f6-cbb7761cd7c5"
      },
      "source": [
        "round(max(5.572, 3.258), abs(-2))"
      ],
      "execution_count": 13,
      "outputs": [
        {
          "output_type": "execute_result",
          "data": {
            "text/plain": [
              "5.57"
            ]
          },
          "metadata": {},
          "execution_count": 13
        }
      ]
    },
    {
      "cell_type": "markdown",
      "metadata": {
        "id": "8iFhhaHhK83s"
      },
      "source": [
        "Bài 3"
      ]
    },
    {
      "cell_type": "code",
      "metadata": {
        "colab": {
          "base_uri": "https://localhost:8080/"
        },
        "id": "YLYWmgSBK6y1",
        "outputId": "0d4b2ea3-5417-4c68-a0da-350f40b3d624"
      },
      "source": [
        "def triple(num):\n",
        "  return num* 3\n",
        "triple(10)"
      ],
      "execution_count": 42,
      "outputs": [
        {
          "output_type": "execute_result",
          "data": {
            "text/plain": [
              "30"
            ]
          },
          "metadata": {},
          "execution_count": 42
        }
      ]
    },
    {
      "cell_type": "markdown",
      "metadata": {
        "id": "nxO2YlG4UjCS"
      },
      "source": [
        "Bài 4"
      ]
    },
    {
      "cell_type": "code",
      "metadata": {
        "colab": {
          "base_uri": "https://localhost:8080/"
        },
        "id": "lWFE03LPUlTI",
        "outputId": "cceda92b-d998-4551-d4a4-b65f287760ed"
      },
      "source": [
        "def absolute_difference(n1,n2):\n",
        "  return(n1- n2)\n",
        "absolute_difference(10,5)"
      ],
      "execution_count": 46,
      "outputs": [
        {
          "output_type": "execute_result",
          "data": {
            "text/plain": [
              "5"
            ]
          },
          "metadata": {},
          "execution_count": 46
        }
      ]
    },
    {
      "cell_type": "markdown",
      "metadata": {
        "id": "SLxq02HDUWd_"
      },
      "source": [
        "Bài 5"
      ]
    },
    {
      "cell_type": "code",
      "metadata": {
        "colab": {
          "base_uri": "https://localhost:8080/"
        },
        "id": "8mzb0gVRPxxx",
        "outputId": "18d7ee27-7fcf-4c2b-bb6f-3d2820abe504"
      },
      "source": [
        "def km_to_miles(n):\n",
        "  return n/1.6\n",
        "km_to_miles(16)"
      ],
      "execution_count": 34,
      "outputs": [
        {
          "output_type": "execute_result",
          "data": {
            "text/plain": [
              "10.0"
            ]
          },
          "metadata": {},
          "execution_count": 34
        }
      ]
    },
    {
      "cell_type": "markdown",
      "metadata": {
        "id": "27CdzqW0Ubda"
      },
      "source": [
        "Bài 6"
      ]
    },
    {
      "cell_type": "code",
      "metadata": {
        "colab": {
          "base_uri": "https://localhost:8080/"
        },
        "id": "OO3EOA41Q4yk",
        "outputId": "fc8a83f6-8648-4fc8-e062-72b0500b78b9"
      },
      "source": [
        "def average_grade(grade1, grade2, grade3):\n",
        "  return (grade1 +grade2 +grade3)/3\n",
        "average_grade(80,20,50)"
      ],
      "execution_count": 35,
      "outputs": [
        {
          "output_type": "execute_result",
          "data": {
            "text/plain": [
              "50.0"
            ]
          },
          "metadata": {},
          "execution_count": 35
        }
      ]
    },
    {
      "cell_type": "markdown",
      "metadata": {
        "id": "K7MB4WT2Ueq_"
      },
      "source": [
        "Bài 7"
      ]
    },
    {
      "cell_type": "code",
      "metadata": {
        "colab": {
          "base_uri": "https://localhost:8080/"
        },
        "id": "MkLA_PsjRTy-",
        "outputId": "c825597e-3c52-485f-889d-21ea10633290"
      },
      "source": [
        "def num_3_max(n1, n2, n3, n4):\n",
        "  total = n1 + n2 + n3 + n4\n",
        "  P = total - min(n1,n2,n3,n4)\n",
        "  S = P/3\n",
        "  return (S)\n",
        "num_3_max(5,6,7,8)"
      ],
      "execution_count": 41,
      "outputs": [
        {
          "output_type": "execute_result",
          "data": {
            "text/plain": [
              "7.0"
            ]
          },
          "metadata": {},
          "execution_count": 41
        }
      ]
    },
    {
      "cell_type": "markdown",
      "metadata": {
        "id": "qMkntAubVXfS"
      },
      "source": [
        "Bài 8"
      ]
    },
    {
      "cell_type": "code",
      "metadata": {
        "colab": {
          "base_uri": "https://localhost:8080/"
        },
        "id": "Rz76NR_aUKOl",
        "outputId": "00b37a31-8ec6-4209-bf75-c720d40fccaf"
      },
      "source": [
        "def weeks_elapsed(day1, day2):\n",
        "  c = day2 - day1\n",
        "  d = c//7\n",
        "  return d\n",
        "weeks_elapsed(10,80)"
      ],
      "execution_count": 51,
      "outputs": [
        {
          "output_type": "execute_result",
          "data": {
            "text/plain": [
              "10"
            ]
          },
          "metadata": {},
          "execution_count": 51
        }
      ]
    },
    {
      "cell_type": "markdown",
      "metadata": {
        "id": "B0q1PC6uYGks"
      },
      "source": [
        "Bài 9"
      ]
    },
    {
      "cell_type": "code",
      "metadata": {
        "colab": {
          "base_uri": "https://localhost:8080/"
        },
        "id": "Ts0cOM7QYFT9",
        "outputId": "369f056d-62c6-4118-b479-4116ce60efb0"
      },
      "source": [
        "def square(num):\n",
        "  num = num*num\n",
        "  return num\n",
        "square(10)"
      ],
      "execution_count": 56,
      "outputs": [
        {
          "output_type": "execute_result",
          "data": {
            "text/plain": [
              "100"
            ]
          },
          "metadata": {},
          "execution_count": 56
        }
      ]
    },
    {
      "cell_type": "markdown",
      "metadata": {
        "id": "89OWHymcbGIB"
      },
      "source": [
        "Bài 10"
      ]
    },
    {
      "cell_type": "code",
      "metadata": {
        "colab": {
          "base_uri": "https://localhost:8080/"
        },
        "id": "AeiXoEI-bFU1",
        "outputId": "d004c6f6-38dc-4d2f-e07e-e0b2509fd700"
      },
      "source": [
        "n = 4\n",
        "n = n*n\n",
        "print(n)"
      ],
      "execution_count": 63,
      "outputs": [
        {
          "output_type": "stream",
          "name": "stdout",
          "text": [
            "16\n"
          ]
        }
      ]
    },
    {
      "cell_type": "markdown",
      "metadata": {
        "id": "PtNlk3yGbz2L"
      },
      "source": [
        "Chương 6"
      ]
    },
    {
      "cell_type": "markdown",
      "metadata": {
        "id": "F06Pq9bLb36a"
      },
      "source": [
        "Bài 1"
      ]
    },
    {
      "cell_type": "code",
      "metadata": {
        "colab": {
          "base_uri": "https://localhost:8080/"
        },
        "id": "V1cx5zsWdlgi",
        "outputId": "783b37f4-9f73-4001-d268-cfb9a3d4f8b1"
      },
      "source": [
        "import math\n",
        "math.floor(-2.8)"
      ],
      "execution_count": 72,
      "outputs": [
        {
          "output_type": "execute_result",
          "data": {
            "text/plain": [
              "-3"
            ]
          },
          "metadata": {},
          "execution_count": 72
        }
      ]
    },
    {
      "cell_type": "code",
      "metadata": {
        "colab": {
          "base_uri": "https://localhost:8080/"
        },
        "id": "9WWGkZqlb3M9",
        "outputId": "2d015e2b-c9be-4373-c594-00b39f5246f0"
      },
      "source": [
        "abs(round(-4.3))"
      ],
      "execution_count": 73,
      "outputs": [
        {
          "output_type": "execute_result",
          "data": {
            "text/plain": [
              "4"
            ]
          },
          "metadata": {},
          "execution_count": 73
        }
      ]
    },
    {
      "cell_type": "code",
      "metadata": {
        "colab": {
          "base_uri": "https://localhost:8080/"
        },
        "id": "B4hKG-75eIKr",
        "outputId": "2b9b39fd-2d44-4469-f26d-ae4d88ae4a88"
      },
      "source": [
        "math.ceil(math.sin(34.5))"
      ],
      "execution_count": 74,
      "outputs": [
        {
          "output_type": "execute_result",
          "data": {
            "text/plain": [
              "1"
            ]
          },
          "metadata": {},
          "execution_count": 74
        }
      ]
    },
    {
      "cell_type": "markdown",
      "metadata": {
        "id": "RinVdzIIkVOo"
      },
      "source": [
        "Bài 2"
      ]
    },
    {
      "cell_type": "code",
      "metadata": {
        "id": "dqnQ6BofkWjh"
      },
      "source": [
        "import calendar"
      ],
      "execution_count": 75,
      "outputs": []
    },
    {
      "cell_type": "code",
      "metadata": {
        "colab": {
          "base_uri": "https://localhost:8080/"
        },
        "id": "jcvbWcH4kYG2",
        "outputId": "1e1c9541-8af7-4ab4-f665-004266cdcd28"
      },
      "source": [
        "help(calendar.isleap)"
      ],
      "execution_count": 76,
      "outputs": [
        {
          "output_type": "stream",
          "name": "stdout",
          "text": [
            "Help on function isleap in module calendar:\n",
            "\n",
            "isleap(year)\n",
            "    Return True for leap years, False for non-leap years.\n",
            "\n"
          ]
        }
      ]
    },
    {
      "cell_type": "code",
      "metadata": {
        "colab": {
          "base_uri": "https://localhost:8080/"
        },
        "id": "zFfCsH4flP8_",
        "outputId": "60ecea66-c701-479b-c37f-483df8606a2b"
      },
      "source": [
        "calendar.isleap(2016)"
      ],
      "execution_count": 77,
      "outputs": [
        {
          "output_type": "execute_result",
          "data": {
            "text/plain": [
              "True"
            ]
          },
          "metadata": {},
          "execution_count": 77
        }
      ]
    },
    {
      "cell_type": "code",
      "metadata": {
        "colab": {
          "base_uri": "https://localhost:8080/"
        },
        "id": "3P2DQeWjlOIP",
        "outputId": "4236e5bf-aa78-4d37-e260-82919fb0e3e6"
      },
      "source": [
        "dir(calendar)"
      ],
      "execution_count": 78,
      "outputs": [
        {
          "output_type": "execute_result",
          "data": {
            "text/plain": [
              "['Calendar',\n",
              " 'EPOCH',\n",
              " 'FRIDAY',\n",
              " 'February',\n",
              " 'HTMLCalendar',\n",
              " 'IllegalMonthError',\n",
              " 'IllegalWeekdayError',\n",
              " 'January',\n",
              " 'LocaleHTMLCalendar',\n",
              " 'LocaleTextCalendar',\n",
              " 'MONDAY',\n",
              " 'SATURDAY',\n",
              " 'SUNDAY',\n",
              " 'THURSDAY',\n",
              " 'TUESDAY',\n",
              " 'TextCalendar',\n",
              " 'WEDNESDAY',\n",
              " '_EPOCH_ORD',\n",
              " '__all__',\n",
              " '__builtins__',\n",
              " '__cached__',\n",
              " '__doc__',\n",
              " '__file__',\n",
              " '__loader__',\n",
              " '__name__',\n",
              " '__package__',\n",
              " '__spec__',\n",
              " '_colwidth',\n",
              " '_locale',\n",
              " '_localized_day',\n",
              " '_localized_month',\n",
              " '_spacing',\n",
              " 'c',\n",
              " 'calendar',\n",
              " 'datetime',\n",
              " 'day_abbr',\n",
              " 'day_name',\n",
              " 'different_locale',\n",
              " 'error',\n",
              " 'firstweekday',\n",
              " 'format',\n",
              " 'formatstring',\n",
              " 'isleap',\n",
              " 'leapdays',\n",
              " 'main',\n",
              " 'mdays',\n",
              " 'month',\n",
              " 'month_abbr',\n",
              " 'month_name',\n",
              " 'monthcalendar',\n",
              " 'monthlen',\n",
              " 'monthrange',\n",
              " 'nextmonth',\n",
              " 'prcal',\n",
              " 'prevmonth',\n",
              " 'prmonth',\n",
              " 'prweek',\n",
              " 'repeat',\n",
              " 'setfirstweekday',\n",
              " 'sys',\n",
              " 'timegm',\n",
              " 'week',\n",
              " 'weekday',\n",
              " 'weekheader']"
            ]
          },
          "metadata": {},
          "execution_count": 78
        }
      ]
    },
    {
      "cell_type": "code",
      "metadata": {
        "colab": {
          "base_uri": "https://localhost:8080/"
        },
        "id": "T3wwwgR7mDO_",
        "outputId": "113dd2b0-be7d-435a-8e9b-8ba690f52258"
      },
      "source": [
        "calendar.leapdays(2000,2050)"
      ],
      "execution_count": 79,
      "outputs": [
        {
          "output_type": "execute_result",
          "data": {
            "text/plain": [
              "13"
            ]
          },
          "metadata": {},
          "execution_count": 79
        }
      ]
    },
    {
      "cell_type": "code",
      "metadata": {
        "colab": {
          "base_uri": "https://localhost:8080/"
        },
        "id": "gRLDuL3pmJbN",
        "outputId": "cc0ad958-d290-40c4-e31d-75802b4c2215"
      },
      "source": [
        "calendar.weekday(2016,7,29)"
      ],
      "execution_count": 81,
      "outputs": [
        {
          "output_type": "execute_result",
          "data": {
            "text/plain": [
              "4"
            ]
          },
          "metadata": {},
          "execution_count": 81
        }
      ]
    },
    {
      "cell_type": "markdown",
      "metadata": {
        "id": "ptfSk9FSpGm5"
      },
      "source": [
        "Bài 3"
      ]
    },
    {
      "cell_type": "code",
      "metadata": {
        "colab": {
          "base_uri": "https://localhost:8080/"
        },
        "id": "4RWVk6samNuA",
        "outputId": "d11ff922-8ad3-412a-cd38-5ed9c214ba79"
      },
      "source": [
        "def average(n1: float, n2:float):\n",
        "  s = (n1+n2)/2\n",
        "  return s\n",
        "average(2.5,7.5)"
      ],
      "execution_count": 84,
      "outputs": [
        {
          "output_type": "execute_result",
          "data": {
            "text/plain": [
              "5.0"
            ]
          },
          "metadata": {},
          "execution_count": 84
        }
      ]
    },
    {
      "cell_type": "markdown",
      "metadata": {
        "id": "O0YP1zDdpyoT"
      },
      "source": [
        "Chương 7"
      ]
    },
    {
      "cell_type": "markdown",
      "metadata": {
        "id": "027Nc0hgp0lc"
      },
      "source": [
        "Bài 1"
      ]
    },
    {
      "cell_type": "code",
      "metadata": {
        "id": "2HjVzsB4pWKC",
        "outputId": "656460b1-2f8e-44cf-8954-4c391ea89635",
        "colab": {
          "base_uri": "https://localhost:8080/",
          "height": 35
        }
      },
      "source": [
        "'hello'.upper()"
      ],
      "execution_count": 101,
      "outputs": [
        {
          "output_type": "execute_result",
          "data": {
            "application/vnd.google.colaboratory.intrinsic+json": {
              "type": "string"
            },
            "text/plain": [
              "'HELLO'"
            ]
          },
          "metadata": {},
          "execution_count": 101
        }
      ]
    },
    {
      "cell_type": "code",
      "metadata": {
        "id": "Vm5_5Vuyp_SU",
        "outputId": "ec8cabda-ecee-49b7-c625-637dc64f3055",
        "colab": {
          "base_uri": "https://localhost:8080/",
          "height": 35
        }
      },
      "source": [
        "'Happy Birthday!'.lower()"
      ],
      "execution_count": 103,
      "outputs": [
        {
          "output_type": "execute_result",
          "data": {
            "application/vnd.google.colaboratory.intrinsic+json": {
              "type": "string"
            },
            "text/plain": [
              "'happy birthday!'"
            ]
          },
          "metadata": {},
          "execution_count": 103
        }
      ]
    },
    {
      "cell_type": "code",
      "metadata": {
        "id": "Axk_4Pm_rFYp",
        "outputId": "53e42519-43fd-4f7d-d990-7ede33f862d7",
        "colab": {
          "base_uri": "https://localhost:8080/",
          "height": 35
        }
      },
      "source": [
        "'WeeeEEEEeeeEEEEeee'.swapcase()"
      ],
      "execution_count": 104,
      "outputs": [
        {
          "output_type": "execute_result",
          "data": {
            "application/vnd.google.colaboratory.intrinsic+json": {
              "type": "string"
            },
            "text/plain": [
              "'wEEEeeeeEEEeeeeEEE'"
            ]
          },
          "metadata": {},
          "execution_count": 104
        }
      ]
    },
    {
      "cell_type": "code",
      "metadata": {
        "id": "-rJDsOHJrImk",
        "outputId": "30e733c3-e291-4d7b-8e14-4243ae5f63fc",
        "colab": {
          "base_uri": "https://localhost:8080/"
        }
      },
      "source": [
        "'ABC123'.isupper()"
      ],
      "execution_count": 105,
      "outputs": [
        {
          "output_type": "execute_result",
          "data": {
            "text/plain": [
              "True"
            ]
          },
          "metadata": {},
          "execution_count": 105
        }
      ]
    },
    {
      "cell_type": "code",
      "metadata": {
        "id": "VlKwg5XYrL0g",
        "outputId": "290e6d4c-d669-4bef-fdbf-3e32025f94bb",
        "colab": {
          "base_uri": "https://localhost:8080/"
        }
      },
      "source": [
        "'aeiouAEIOU'.count('a')"
      ],
      "execution_count": 106,
      "outputs": [
        {
          "output_type": "execute_result",
          "data": {
            "text/plain": [
              "1"
            ]
          },
          "metadata": {},
          "execution_count": 106
        }
      ]
    },
    {
      "cell_type": "code",
      "metadata": {
        "id": "rvwWD92ZrOr9",
        "outputId": "2f04a8c1-b119-4f6f-fd52-c3edda5030b5",
        "colab": {
          "base_uri": "https://localhost:8080/"
        }
      },
      "source": [
        "'hello'.endswith('o')"
      ],
      "execution_count": 107,
      "outputs": [
        {
          "output_type": "execute_result",
          "data": {
            "text/plain": [
              "True"
            ]
          },
          "metadata": {},
          "execution_count": 107
        }
      ]
    },
    {
      "cell_type": "code",
      "metadata": {
        "id": "wbdwcx8OrS6n",
        "outputId": "6d475940-8391-43ac-a3bf-2851c1cc9b60",
        "colab": {
          "base_uri": "https://localhost:8080/"
        }
      },
      "source": [
        "'hello'.startswith('H')"
      ],
      "execution_count": 108,
      "outputs": [
        {
          "output_type": "execute_result",
          "data": {
            "text/plain": [
              "False"
            ]
          },
          "metadata": {},
          "execution_count": 108
        }
      ]
    },
    {
      "cell_type": "code",
      "metadata": {
        "id": "9ruNw4YIrVgx",
        "outputId": "917700d3-dbb1-4111-dcb3-df3ede37f368",
        "colab": {
          "base_uri": "https://localhost:8080/",
          "height": 35
        }
      },
      "source": [
        "'Hello {0}'.format('Python')"
      ],
      "execution_count": 109,
      "outputs": [
        {
          "output_type": "execute_result",
          "data": {
            "application/vnd.google.colaboratory.intrinsic+json": {
              "type": "string"
            },
            "text/plain": [
              "'Hello Python'"
            ]
          },
          "metadata": {},
          "execution_count": 109
        }
      ]
    },
    {
      "cell_type": "code",
      "metadata": {
        "id": "4XAcxz-hrbBV",
        "outputId": "cd8527f2-b5a2-4fab-b798-c7d6bd2f82bb",
        "colab": {
          "base_uri": "https://localhost:8080/",
          "height": 35
        }
      },
      "source": [
        "'Hello {0}! Hello {1}!'.format('Python', 'World')"
      ],
      "execution_count": 110,
      "outputs": [
        {
          "output_type": "execute_result",
          "data": {
            "application/vnd.google.colaboratory.intrinsic+json": {
              "type": "string"
            },
            "text/plain": [
              "'Hello Python! Hello World!'"
            ]
          },
          "metadata": {},
          "execution_count": 110
        }
      ]
    },
    {
      "cell_type": "markdown",
      "metadata": {
        "id": "668BNAUWrh8S"
      },
      "source": [
        "Bài 2"
      ]
    },
    {
      "cell_type": "code",
      "metadata": {
        "id": "RatdVO58rfBq",
        "outputId": "5f25832e-de3e-48f7-dd01-31025f4c9815",
        "colab": {
          "base_uri": "https://localhost:8080/"
        }
      },
      "source": [
        "'tomato'.count('o')"
      ],
      "execution_count": 111,
      "outputs": [
        {
          "output_type": "execute_result",
          "data": {
            "text/plain": [
              "2"
            ]
          },
          "metadata": {},
          "execution_count": 111
        }
      ]
    },
    {
      "cell_type": "code",
      "metadata": {
        "id": "jweANOEpsByE",
        "outputId": "b71931ef-e045-4ff2-fe48-677a76c9caa6",
        "colab": {
          "base_uri": "https://localhost:8080/"
        }
      },
      "source": [
        "'tomato'.index('o')"
      ],
      "execution_count": 114,
      "outputs": [
        {
          "output_type": "execute_result",
          "data": {
            "text/plain": [
              "1"
            ]
          },
          "metadata": {},
          "execution_count": 114
        }
      ]
    },
    {
      "cell_type": "code",
      "metadata": {
        "id": "-VU0QwrnsL8e",
        "outputId": "2de4555b-bc4c-4776-b739-785c92d22867",
        "colab": {
          "base_uri": "https://localhost:8080/"
        }
      },
      "source": [
        ""
      ],
      "execution_count": 120,
      "outputs": [
        {
          "output_type": "stream",
          "name": "stdout",
          "text": [
            "t 1\n",
            "o 1\n",
            "m 1\n",
            "a 1\n",
            "t 2\n",
            "o 2\n"
          ]
        }
      ]
    }
  ]
}